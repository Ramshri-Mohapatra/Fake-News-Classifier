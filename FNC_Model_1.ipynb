{
 "cells": [
  {
   "cell_type": "code",
   "execution_count": 109,
   "metadata": {},
   "outputs": [],
   "source": [
    "import pandas as pd\n",
    "\n",
    "\n",
    "df_train = pd.read_parquet('train.parquet')\n",
    "df_val = pd.read_parquet('val.parquet')\n",
    "df_test = pd.read_parquet('test.parquet')"
   ]
  },
  {
   "cell_type": "code",
   "execution_count": 110,
   "metadata": {},
   "outputs": [
    {
     "data": {
      "application/vnd.microsoft.datawrangler.viewer.v0+json": {
       "columns": [
        {
         "name": "index",
         "rawType": "int64",
         "type": "integer"
        },
        {
         "name": "Unnamed: 0",
         "rawType": "int64",
         "type": "integer"
        },
        {
         "name": "title",
         "rawType": "object",
         "type": "string"
        },
        {
         "name": "text",
         "rawType": "object",
         "type": "string"
        },
        {
         "name": "subject",
         "rawType": "object",
         "type": "string"
        },
        {
         "name": "date",
         "rawType": "object",
         "type": "string"
        },
        {
         "name": "label",
         "rawType": "int64",
         "type": "integer"
        }
       ],
       "conversionMethod": "pd.DataFrame",
       "ref": "5bed4b33-95ff-4b9b-8076-399dfd3a7e6a",
       "rows": [
        [
         "0",
         "2619",
         "Ex-CIA head says Trump remarks on Russia interference 'disgraceful'",
         "Former CIA director John Brennan on Friday criticized as “disgraceful” President Donald Trump’s efforts to play down U.S. intelligence agencies’ assessment that Russia meddled in the 2016 U.S. election. Trump’s administration has been dogged by investigations into allegations of Russian interference in last year’s U.S. presidential election and possible ties with his campaign team. Speaking one day before his first meeting with Russian President Vladimir Putin in Hamburg earlier this month, Trump said he suspected Russian interference in the election but that no one knows for sure. “These types of comments are just disgraceful ... and the person who said them should be ashamed of himself,” said Brennan, CIA chief under former President Barack Obama, at the Aspen Security Forum. Special Counsel Robert Mueller and several U.S. congressional committees are investigating whether Russia interfered in the election and colluded with Trump’s campaign to try to swing the race in his favor over Democratic rival Hillary Clinton.  Those probes are focused almost exclusively on Moscow’s actions, lawmakers and intelligence officials have said, and no evidence has surfaced publicly implicating other countries. Moscow has denied any interference, and Trump has said that  his campaign did not collude with Russia. Brennan said he was disappointed by the president’s handling of security issues in his first six months in office. “I must say there are disappointments that I see in terms of what Mr. Trump is doing on the international stage that I think pose serious questions about how he is keeping safe our national security,” Brennan said. Speaking at the same event in Aspen, James Clapper, the former director of national intelligence under Obama, was also critical of Trump’s administration. Asked if Jared Kushner, Trump’s son-in-law and top adviser, should have his security clearance canceled for initially failing to list on a disclosure form contacts he had with Russians, Clapper said it should be suspended pending a review. “I do think the appropriate thing here is take a pause and at least suspend a clearance until you’ve had the opportunity to investigate and then decide whether the clearance should be restored or not,” Clapper told the same panel. Brennan and Clapper also criticized Trump’s remarks in a tweet earlier this year about U.S. spy agencies in which he accused them of practices reminiscent of Nazi Germany.  “That (tweet) was a terrible insulting affront not to me or John. We get paid the big bucks to take that. But I’m talking about the rank and file, the people in the trenches, men and women, the patriots in the intelligence community and that was completely inappropriate,” said Clapper.",
         "politicsNews",
         "July 22, 2017 ",
         "1"
        ],
        [
         "1",
         "16043",
         "YOU WON’T BELIEVE HIS PUNISHMENT! HISPANIC STORE OWNER Swindles Tax Payers Out Of $1,116,924.27 In Latest Food Stamp Scam",
         "How did this man come to OWN this store? There is no information on much about this fraudster except that he stole from Americans and is getting just a slap on the wrist. It s no wonder these people are repeat offenders!A hispanic store owner testified in court through a Spanish translator (Why no English?) that he swindled the American tax payers out of millions via food stamp fraud. Eduardo Leonardo plead guilty to stealing from the USDA by illegally exchanging over a million dollars of food stamp benefits for cash for over two years. I stole from the USDA and the Food and Nutrition Service,  Eduardo Leonardo said slowly in Spanish through a translator in Brooklyn Federal Court.  It was an exchange of benefits for cash. Leonardo, 57,  admitted to committing  food stamp  fraud between Oct. 2015 and March 2017 by giving customers cash in exchange for running their EBT cards for a higher amount, which the federal government would later reimburse.In one instance, an undercover witness from the USDA went into Super Economic and picked up a jar of peanut butter and jelly and crackers, totaling $5.48. The witness then asked Leonardo to exchange benefits for $200 cash and Leonardo charged an undercover EBT card $287.89 and gave the witness $200 in cash, making a $82.41 profit.The USDA lost a total of $1,116,924.27 in the transactions.The scammer has run his store, Super Economic One Way Supermarket out of 104-21 Glenwood Road in Canarsie since Dec. 2011. It became a registered SNAP business on May 25, 2012. Specifically I gave a discounted rate in cash in exchange for them [customers] allowing me to ring up the full amount,  Leonardo said to Judge Ann Donnelly.Remember Ann Donnelly?Supplemental Nutrition Assistance Program (SNAP) previously called the  food stamp program,  uses federal tax dollars to aid low-income households in buying affordable and nutritious food. EBT cards are used like debit cards, to swipe at special terminals in retail food stores to use the benefits in exchange for food.Between Nov. 2015 and Jan. 2017, Super Economic conducted more than 57,000 SNAP transactions totaling more than $1.5 million, according to court documents.About 8 transactions were made for $50 or more, an amount that USDA officials say is high for a store that size, which would normally conduct $15 average transactions.Leonardo is set to be sentenced on Oct. 31 and could face a maximum five years in prison WHAAAAT????THIS IS WHY THIS KEEPS HAPPENING!A man swindles more than a million dollars from Americans yet he gets only 5 years in prison? The punishment does not fit the crime!Via: Brooklyn Eagle",
         "Government News",
         "Jun 19, 2017",
         "0"
        ],
        [
         "2",
         "876",
         "Federal Reserve governor Powell's policy views, in his own words",
         "President Donald Trump on Thursday tapped Federal Reserve Governor Jerome Powell to become head of the U.S. central bank, promoting a soft-spoken centrist to replace Janet Yellen when her term expires in February 2018. In five years as a Fed Governor Jerome Powell has been a consistent, middle of the road voice, backing the consensus crafted by Fed chair Janet Yellen that interest rates should be raised slowly so labor markets could recover, that financial stability risks were muted, and that new regulations had made the economy safer. Following is a collection of quotes from select policy speeches he has delivered since 2015: On Rates:  “The financial crisis did significant damage to the productive capacity of our economy, and the damage was of a character, extent, and duration that cannot be fully known today…It seems plausible that at least part of this supply-side damage could be reversed if the economy enjoys a period of sustained growth.4 To encourage that outcome, as monetary policymakers consider removing accommodation, we should look for a little more proof than usual that labor markets are tightening or other supply-side constraints are binding.” - April 2015 speech to New York Council on Foreign Relations: (Graphic: U.S. labor market measures vs interest rates - reut.rs/2h7hsFx) On Financial Stability:  “The bottom line is that there has not been an excessive buildup of leverage, maturity transformation, or broadly unsustainable asset prices…Overall, I do not see leveraged finance markets as posing undue financial stability risks. And if risk-taking does not threaten financial stability, it is not the Fed’s job to stop people from losing (or making) money.”  - January 2017 speech to American Finance Association, Chicago  (Graphic: U.S. stocks and leverage - reut.rs/2iolCp6) On Regulation: “We have substantially increased the capital, liquidity, and other prudential requirements for large banking firms. These measures are not free. Higher capital requirements increase bank costs, and at least some of those costs will be passed along to bank customers and shareholders. But in the longer term, stronger prudential requirements for large banking firms will produce more sustainable credit availability and economic growth.” - June 2017 speech to Salzburg Global Seminar, Salzburg, Austria (Graphic: Commercial credit and bank profitability - reut.rs/2h8lfCm) On the Current Economy: “Risks to the forecast now seem more balanced than they have been for some time. In particular, the global picture has brightened as growth and inflation have broadly moved up for the first time in several years. Here at home, risks seem both moderate and balanced, including the downside risk of lower inflation and the upside risk of labor market overheating. The Committee has been patient in raising rates, and that patience has paid dividends…. If the economy performs about as expected, I would view it as appropriate to continue to gradually raise rates.” - June 2017 speech to the Economic Club of New York (Graphic: The inflation conundrum - reut.rs/2za4ltY) Other issues may confront Powell in his confirmation hearings and as chair, such as whether to keep the current system of paying banks interest on their reserves as the main method of setting short term interest rates, and whether to rely on monetary policy rules: On Reserve Interest:   “Simple to operate and has provided good control over the federal funds rate.” - June 2017 speech to the Economic Club of New York (Graphic: Bank reserves at the Fed - reut.rs/2z7Qdl8) On Policy Rules:  “I am unable to think of any critical, complex human activity that could be safely reduced to a simple summary equation. In particular, no major central bank uses policy rules in a prescriptive way, and it is hard to predict the consequences of requiring the FOMC to do so, as some have proposed. Policy should be systematic, but not automatic.” - February 2017 speech to the Forecasters Club of New York (Graphic: Monetary policy rules vs reality - reut.rs/2h7mMZE)",
         "politicsNews",
         "November 2, 2017 ",
         "1"
        ],
        [
         "3",
         "19963",
         "SCOUNDREL HILLARY SUPPORTER STARTS “TrumpLeaks” Campaign…Desperate Move!",
         "Hillary Clinton ally David Brock is offering to pay for new information on Donald Trump, hoping that damaging audio or video on the Republican presidential candidate will be submitted to his super PAC.Brock, founder of the left-wing Media Matters and operator of Correct the Record super PAC, recently posted the plea on Correct the Record s website and is referring to the project as  TrumpLeaks,  NBC News reported.Brock asked for video or audio of Trump that has yet to be released. One of the most important things for voters to evaluate in any election is the full measure of a candidate s views, ideas, and temperament over time,  the website states. In making a choice for president, voters must also consider how various candidates present themselves to the public and to the world. There are few things more important in that regard than access to video or audio in the form of prior television or radio interviews or more candid video from events a candidate may have attended. Brock s super PAC goes on to say they can offer compensation to anyone who has new video or audio that has been obtained legally.Read more: WFB",
         "left-news",
         "Sep 17, 2016",
         "0"
        ],
        [
         "4",
         "10783",
         "NANCY PELOSI ARROGANTLY DISMISSES Questions on Crooked Democrat IT Employees Under Investigation [Video]",
         "Pleading ignorance is a perfect ploy for Nancy Pelosi Who wouldn t believe she s clueless on pretty much everything. Pelosi claims she s been busy with lots of  things . That s laughable! This case is a big deal! Here s what The Daily Caller had to say about this stain on the Democrats:U.S. Capitol Police and other agencies are probing the cyber activities of three brothers who had jobs as congressional staffers at the office of information technology for lawmakers on the House Permanent Select Committee on Intelligence, The Daily Caller News Foundation first reported. Brothers Imran, Abid and Jamal Awan also provided their services for other Democratic members in the lower chamber.When they came under suspicion by law enforcement for accessing the House network without permission last February, they were all banned from accessing it. While some Democratic lawmakers dismissed Imran from their employ when the story, others, like Florida Democratic Rep. Debbie Wasserman Schultz kept him on.Are the Democrats helping these two men hide the evidence?",
         "politics",
         "May 26, 2017",
         "0"
        ],
        [
         "5",
         "18522",
         "EU's Tusk appealed to Rajoy to avoid escalation in Catalonia",
         "European Council President Donald Tusk appealed to Spanish Prime Minister Mariano Rajoy on Monday to seek ways to avoid escalation in Catalonia and the use of force following Sunday s independence referendum in the region. After speaking to Rajoy, Tusk tweeted:  Sharing his constitutional arguments, I appealed for finding ways to avoid further escalation and use of force.",
         "worldnews",
         "October 2, 2017 ",
         "1"
        ],
        [
         "6",
         "270",
         "Country Guitarist Who Survived Vegas Shooting Changes Mind On Gun Control: ‘How Wrong I Was’",
         "Caleb Keeter, a lifelong proponent of the Second Amendment, and guitarist for Texas country outfit the Josh Abbott Band has had a strong change of heart regarding gun control. What changed his stance was  the events of last night  in which a gunman opened fire killing 58 people and injuring 515 others, marking it as the deadliest mass shooting in U.S. history. While  thoughts and prayers  are offered by the masses after each deadly shooting, Keeter took it a step further, posting a lengthy message on Twitter to express his personal thoughts after the attack.Keeter, who survived the attack, wrote,  I ve been a proponent of the 2nd amendment my entire life. Until the events of last night.   I cannot express how wrong I was. We actually have members of our crew with [Concealed Handgun Licenses], and legal firearms on the bus,  Keeter continued.  They were useless. We couldn t touch them for fear police might think we were part of the massacre and shoot us. A small group (or one man) laid waste to a city with dedicated, fearless police officers desperately trying to help, because of access to an insane amount of fire power.Enough is enough.Writing my parents and the love of my life a goodbye last night and a living will because I felt like I wasn t going to live through the night was enough for me to realize that this is completely and totally out of hand. These rounds were just powerful enough that my crew guys just standing in close proximity of a victim shot by this f ing coward received shrapnel wounds.We need gun control RIGHT. NOW. My biggest regret is that I stubbornly didn t realize it until my brothers on the road and myself were threatened by it. We are unbelievably fortunate to not be among the number of victims killed or seriously wounded by this maniac.pic.twitter.com/0NFjHf3PW2  Caleb Keeter (@Calebkeeter) October 2, 2017Some Twitter users wondered about his change of heart. Why now instead of when a gunman opened fire in 2012, slaughtering twenty first-graders and six adults at the Sandy Hook elementary school.On Twitter user wrote,  It s frustrating that some don t call the fire dept until the blaze is at their own front door. But we need more ppl on our side. Welcome. Caleb admitted that he s done nothing about gun violence which has rocked our country for years, but said he would like to do something now. You are all absolutely correct,  he tweeted.  I saw this happening for years and did nothing. But I d like to do what I can now. You are all absolutely correct. I saw this happening for years and did nothing. But I'd like to do what I can now. https://t.co/5mYA7D90X3  Caleb Keeter (@Calebkeeter) October 2, 2017In another tweet, he wrote,  That being said, I ll not live in fear of anyone. We will regroup, we ll come back, and we ll rock your fu*king faces off. Bet on it. It s OK to be for the Second Amendment and for gun control.  Keeter has a set of brass balls to come out publicly like that in support of gun control as the country music industry has close ties with the National Rifle Association.Image via YouTube screen capture.",
         "News",
         "October 2, 2017",
         "0"
        ],
        [
         "7",
         "7628",
         "Clinton says 'there is no case here' in FBI email investigation",
         "Democratic presidential candidate Hillary Clinton said on Monday that she welcomed the FBI to look at the emails in the latest twist in the controversy over her use of a private server while she was secretary of state. “There is no case here,” Clinton said at a rally at Kent State University, telling supporters she was confident the FBI would reach the same conclusion as it did in a year-long investigation - that there were no grounds for any charges.",
         "politicsNews",
         "October 31, 2016 ",
         "1"
        ],
        [
         "8",
         "9599",
         "ABC NEWS REPORTS: Las Vegas Massacre Suspect’s Hard Drive Is MISSING From His Laptop",
         "The investigation into the Las Vegas massacre Stephen Paddock just keeps getting more and more strange. Since the shooting massacre that took the lives of 59, and injured hundreds of others in Las Vegas at the Rt. 91 country music festival, we ve seen several timeline changes, a lockdown of the Las Vegas coroner s office, a very strange protection around the  security guard  at the Mandalay Bay Casino and Resort, including an armed guard and a scripted appearance on the Ellen Show. And now like some of the most well-known mass shooters before him, Stephen Paddock s hard drive is missing ?ABC News  A laptop computer recovered from the Las Vegas hotel room where Stephen Paddock launched the deadliest mass shooting in U.S. history was missing its hard drive, depriving investigators of a potential key source of information on why he killed and maimed so many people, ABC News has learned.Paddock is believed to have removed the hard drive before fatally shooting himself, and the missing device has not yet been recovered, sources told ABC News.Investigators digging into Paddock s background also learned he purchased software designed to erase files from a hard drive, but without the hard drive to examine it is impossible to know if he ever used the software, one source said.The absence of substantial digital clues has left investigators struggling to piece together what triggered Paddock to kill 58 innocent concertgoers and injure more than 500 others on Oct. 1.Did Paddock remove the hard drive or is there something more to this story? Is there some connection to evidence being removed from laptops or cell phones from suspects of 3 of the most well-known mass shooting cases in America?According to ABC News (who dismisses this curious evidence as a casual coincidence):In 2007, Virginia Tech shooter Cho Seung Huiremoved the hard drive of his computer and disposed of his cell phone shortly before the massacre. Authorities even searched a pond for the missing digital media, but the devices were never recovered.The 2008 Northern Illinois shooter, Steven Kazmierczak, removed the SIM card from his phone and the hard drive from his laptop, and neither was recovered.In 2012, Sandy Hook shooter Adam Lanza had removed the hard drive from his computer and smashed it with a hammer or screwdriver.",
         "politics",
         "Oct 25, 2017",
         "0"
        ],
        [
         "9",
         "11234",
         "BONKERS BERNIE SANDERS: Prioritizing Jobs Over Climate Change Is ‘Stupid and Dangerous’ [Video]",
         "https://www.youtube.com/watch?v=GPqQIlWksbgVermont Sen. Bernard Sanders told CNN Thursday that President Trump s plan to prioritize job creation over climate change regulations is  stupid and dangerous.  The commander in chief signed an  Energy Independence  executive order Tuesday as a means of rolling back former President Barack Obama s Clean Power Plan. Mr. Trump said his policies will cause  wealth to pour into our communities,  although Mr. Sanders frames it as a recipe for environmental disaster.  [This plan is a] nonsensical, and stupid, and dangerous approach,  Mr. Sanders told CNN s Wolf Blitzer Thursday.  It s almost indescribable. Look, the scientific community is virtually unanimous. While Trump and his friends think climate change is a hoax, what the scientists are telling us it is real, it is caused by human activity. It is already causing devastating problems.  The Trump administration argues on the White House website that its actions will prevent $39 billion in electricity hikes, allow 242 million tons of coal to benefit the American economy, and disbands the Interagency Working Group on the Social Cost of Greenhouse Gases.  I am taking historic steps to lift restrictions on American energy, to reverse government intrusion and to cancel job-killing regulations,  Mr. Trump said Tuesday while surrounded by coal industry executives. Kentucky Coal Association President Tyler White cheered the move soon afterward.Read more: WT",
         "politics",
         "Apr 1, 2017",
         "0"
        ],
        [
         "10",
         "8071",
         "Trump opposes plan for U.S. to cede internet oversight",
         "U.S. Republican presidential nominee Donald Trump opposes a long-planned transition of oversight of the internet’s technical management from the U.S. government to a global community of stakeholders, his campaign said in a statement on Wednesday. Congress should block the handover, scheduled to occur on Oct. 1, “or internet freedom will be lost for good, since there will be no way to make it great again once it is lost,” Stephen Miller, national policy director for the Trump campaign, said in a statement. Senator Ted Cruz of Texas, a former presidential primary foe of Trump’s who has refused to endorse the real estate developer, has led a movement in Congress to block the transition, arguing it could cede control of the internet itself to authoritarian regimes like Russia and China and threaten online freedom. Technical experts have said those claims are baseless, and that a delay will backfire by undermining U.S. credibility in future international negotiations over internet standards and security. Publicly proposed in March 2014, the transfer of oversight of the nonprofit Internet Corporation for Assigned Names and Numbers, or ICANN, is expected to go forward unless Congress votes to block the move.  A vote to delay the transition may come as an amendment to a temporary spending bill that Congress must pass by Sept. 30 to prevent much of the federal government from shutting down. Congressional negotiators on Wednesday were working to finalize an agreement on the spending package. Democratic presidential candidate Hillary Clinton supports the Obama administration’s planned transition to a global community of technologists, civil society groups and internet users, according to policy positions available on her campaign website.",
         "politicsNews",
         "September 21, 2016 ",
         "1"
        ],
        [
         "11",
         "6921",
         "Putin says Trump clever, will understand new responsibilities",
         "U.S. President-elect Donald Trump is a clever man and will quickly understand his new responsibilities, Russian President Vladimir Putin said in an interview with NTV TV. Putin has spoken previously of his hope that Trump will help restore U.S.-Russia relations, and analysts said he was unlikely to want to dial up anti-Western rhetoric before Trump’s inauguration in January. “Trump was an entrepreneur and a businessman. He is already a statesman, he is the head of the United States of America, one of the world’s leading countries,” NTV quoted Putin as saying in the interview on www.ntv.ru on Sunday. “Because he achieved success in business, it suggests that he is a clever man. And if (he is) a clever man, then he will fully and quite quickly understand another level of responsibility. We assume that he will be acting from these positions,” Putin said. Putin’s comments appeared to address criticism from Trump’s opponents who say his unconventional actions since the election - including railing at the cast of a Broadway show and early-morning invective on Twitter - show Trump is out of his depth. China lodged a diplomatic protest on Saturday after Trump spoke by phone with President Tsai Ing-wen of Taiwan, the first by a U.S. president-elect or president since Jimmy Carter switched diplomatic recognition from Taiwan to China in 1979, acknowledging Taiwan as part of “one China”. Speaking about Russia’s relations with the West, Putin said attempts to create a unipolar world had failed: “The situation is changing. I think it is not a secret to anyone, everyone sees it, that many of our partners already prefer to stick to principles of international law, because the world’s balance is being gradually restored.” Putin said when building relationships with other countries, Russia would respect their interests.",
         "politicsNews",
         "December 4, 2016 ",
         "1"
        ],
        [
         "12",
         "14878",
         "Obama And Kerry Exposed: Secret Side Deals With Iran And No Nuclear Agreement",
         "Bravo! These two great Americans make me have hope for the politicians we elect. They re doing a damn good job of exposing the phony Iran deal. They both are veterans and super smart so maybe they ve been able to outsmart the Obama thugs. I love these guys!Rep. Mike Pompeo (R   Kan.) and Sen. Tom Cotton (R   Ark.) have a lot in common. Both are army veterans and both are graduates of Harvard Law School. And both have been doing a great job of exposing aspects of the nuclear deal with Iran that the administration would rather keep quiet.This week it was reported that an inquiry from Pompeo got the State Department to admit that the nuclear deal was never signed and is not  legally binding. Julia Frifield, the Assistant Secretary of State for Legislative Affairs, wrote in response to Pompeo s inquiry if he could see the signed agreement, in a letter reproduced at the congressman s website, that the nuclear deal was not binding and that it was not signed by any party. The key parts of the letter read:The Joint Comprehensive Plan of Action (JCPOA) is not a treaty or an executive agreement, and is not a signed document   The success of the JCPOA will depend not on whether it is legally binding or signed, but rather on the extensive verification measures we have put in place, as well as Iran s understanding that we have the capacity to re-impose   and ramp up   our sanctions if Iran does not meet its commitments.Frifield asserted that the JCPOA was not a signed agreement but  reflections of political commitments  between Iran and the P5+1 nations   the United States, Britain, France, China, Russia and Germany.Pompeo responded,  For the State Department to try to defend the unsigned and non-binding Iran nuclear agreement by calling it a  political commitment  is about as absurd as the terms of the deal itself.   Instead of forging an agreement with Iran that will protect Americans and prevent the world s largest state sponsor of terror from obtaining a nuclear weapon, the Obama administration caved to Iranian bullies and serial nuclear cheaters. Unsigned, this agreement is nothing more than a press release and just about as enforceable. Pompeo, of course, knew that the deal was unsigned, but he got the State Department to admit it. What Cotton s letter did was expose the administration s ploy to evade Congressional oversight and still achieve the permanence of a treaty by going to the U.N. Security Council.The non-binding nature of the nuclear non-agreement isn t the only subterfuge that Cotton and Pompeo have exposed. It was also their questioning that led to the discovery of the secret side deals between Iran and the IAEA. One of the side deals allowed Iran to collect its own samples at the Parchin military base, an arrangement that non-proliferation experts Olli Heinonen, a former deputy director of the IAEA, and David Albright, head of the Institute for Science and International Security, said undermined the effectiveness of the JCPOA. (The scandal of self-inspection of Parchin had previously been brought up by Sen. Robert Menendez (D   N.J.) and Sen. James Risch (R   Idaho).)Cotton and Pompeo have been very good at exposing the weakness of the deal that the media wouldn t otherwise have reported. No doubt in the coming months Iran will continue testing the administration and the administration will continue retreating exposing further weaknesses in the deal.",
         "politics",
         "Nov 27, 2015",
         "0"
        ],
        [
         "13",
         "1560",
         "Ex-N.Y. state senate leader's corruption conviction vacated, faces retrial",
         "A U.S. appeals court on Tuesday threw out the conviction of former New York state Senate Majority Leader Dean Skelos, citing a recent U.S. Supreme Court decision that narrowed the conduct that can sustain federal corruption charges. But the 2nd U.S. Circuit Court of Appeals said federal prosecutors can retry Skelos and his son, Adam Skelos, for bribery and fraud because the evidence presented at trial was “sufficient” to prove their case. The ruling came two months after the court also vacated the bribery conviction of former New York state Assembly Speaker Sheldon Silver, employing similar reasoning. Acting U.S. Attorney in Manhattan Joon Kim said in a statement that his office would pursue a “prompt retrial where we will have another opportunity to present the overwhelming evidence of Dean Skelos and Adam Skelos’ guilt.” Prosecutors previously said they would also retry Silver. Alexandra Shapiro, a lawyer for Skelos, said in an email: “We believe that as events unfold it is going to become clear that this is a case that never should have been brought.” The back-to-back convictions of Silver and Skelos, the state’s most powerful legislators, in November and December 2015 represented two of the most high-profile victories for former Manhattan U.S. Attorney Preet Bharara, who made public corruption a major focus during his tenure before he was fired by U.S. President Trump in March. Skelos, 69, a Republican, was sentenced to five years in prison in May 2016, while his son Adam was sentenced to 6-1/2 years. Both were free on bail at the time of Tuesday’s decision. Together with Governor Andrew Cuomo, Skelos and Silver were members of the “three men in a room” in the state capital of Albany that hold enormous sway over major legislation. The U.S. Supreme Court last year overturned the corruption conviction of former Virginia Governor Bob McDonnell, finding that routine acts such as setting up meetings or contacting other politicians did not qualify as “official acts” under federal bribery statutes. The 2nd Circuit said on Tuesday that the jury instructions at Skelos’ trial, which occurred before the McDonnell decision, were therefore improper, through no fault of the judge or the prosecutors. The elder Skelos was found guilty of using his position as Senate majority leader to pressure three companies seeking his political support into paying his son, including for a lucrative “no-show” job. In exchange, Skelos pushed through bills to benefit the companies, according to prosecutors. The case is U.S. v. Skelos et al, 2nd U.S. Circuit Court of Appeals, Nos. 16-1618 and 16-1697.",
         "politicsNews",
         "September 26, 2017 ",
         "1"
        ],
        [
         "14",
         "13064",
         "Venezuela's former ambassador to U.N. leaves the United States: source",
         "Venezuela s former ambassador to the United Nations, Rafael Ramirez, has left the United States after being forced to resign by President Nicolas Maduro s government, according to a source with knowledge of his travel plan. Ramirez, who for more than a decade ran OPEC member Venezuela s massive oil industry, said earlier on Tuesday he was removed because of his opinions.",
         "worldnews",
         "December 5, 2017 ",
         "1"
        ],
        [
         "15",
         "15262",
         "Trump's stop in Vietnam a poignant one for U.S. veterans",
         "Whether they like President Donald Trump or not, the U.S. veterans who gather at Hoa s Place in Danang show little concern that he avoided the war that marked their lives. Trump flies into the Vietnamese resort of Danang on Friday for a summit of Asia-Pacific leaders, landing in a city that for many Americans of his generation was their first sight of Vietnam - and of war.  He ll finally be able to put on his resume that he was in Vietnam,  said David Clark, 68, who is originally from Akron, Ohio and calls Trump  a joke . After serving in Vietnam from 1968 to 1969 with the Marine Corps, he has now returned to help with projects to address the legacy of the war. Trump never served in the military. He received five deferments during the Vietnam War, including one for bone spurs in his heel, the New York Times reported last year. The paper quoted Trump as saying the bones spurs had been  temporary .      Everyone I know tried to avoid it,  said draftee Keith Soukkala, sipping a beer at Hoa s Place, a favored bar of veterans near Danang s  China Beach .  I stayed out as long as I could but I didn t have any bone spurs,  said Soukkala, who splits his time between Vietnam and Alaska and said he voted for Trump. At 73, he is two years older than Trump and recalls landing in Danang to the humid heat and  a certain smell in the air  at the start of a 13-month tour with the Marine Corps dodging bombs hidden by the communist Viet Cong guerrillas. The seaside resort of Danang has a special place in U.S.-Vietnamese history: it was here that the first U.S. ground troops disembarked in 1965 in the escalation of a war that would last another decade before the communist victory. Close to some of the heaviest fighting in central Vietnam, Danang had a big U.S. air base. China Beach was a relaxation spot for U.S. soldiers back from combat. Now, Danang s beachfront hotels draw tourists from around the world. Gleaming office towers mark it out as one of Vietnam s most modern cities and one the communist government sought to showcase with the hosting of the Asia Pacific Economic Cooperation (APEC) summit which Trump will attend. It s also home to a community of U.S. veterans who returned to a country where a recent Pew Research survey showed the United States was viewed favorably by 84 percent of people. Clark came back in 2013 for a year and is still in Danang, busy with projects to destroy unexploded U.S. bombs and help families affected by the Agent Orange defoliant linked to illness and deformity. Mark O Connor, 67, of Sioux Falls, South Dakota, and once part of a helicopter assault team, visits as often as he can to provide bicycles to children in hill villages.      On this visit, though, he said he had come back in the hope of seeing Trump - his support unaffected by the fact the president had not served in Vietnam.  You know, more power to him,  he said.  You can t feel bad about him and not feel bad about everyone who went to Canada to avoid the draft.",
         "worldnews",
         "November 9, 2017 ",
         "1"
        ],
        [
         "16",
         "6587",
         "Trump 'arms race' comment sows more doubt on nuclear policy",
         "U.S. President-elect Donald Trump sowed more doubt about his position on nuclear proliferation on Friday, reportedly welcoming an arms race even as his spokesman insisted that an atomic weapons build-up was not likely to happen. Trump, who takes office on Jan. 20, caused alarm on Thursday on Twitter, saying the United States “must greatly strengthen and expand its nuclear capability until such time as the world comes to its senses regarding nukes.” On Friday, he had an off-air phone conversation about the tweet with MSNBC TV host Mika Brzezinski, who said Trump told her: “Let it be an arms race. We will outmatch them at every pass and outlast them all.” MSNBC did not play his comments on air. But Trump spokesman Sean Spicer said in a round of television interviews on Friday that Trump’s comments were meant to send a general message of strength to countries like Russia and China rather than indicate the United States planned to build up its nuclear capabilities. “He is going to do what it takes to protect this country and if another country or countries want to threaten our safety and sovereignty, he is going to do what it takes,” Spicer said on CNN. “If another country expands theirs (nuclear capability), the United States will act in kind ... But I do believe that it won’t happen because I think what they have seen, domestically and internationally, is this is a man of action,” Spicer said. Russian President Vladimir Putin, at his annual news conference in Moscow on Friday, said he saw nothing new or remarkable about Trump’s tweet on Thursday, and made clear he did not see the United States as a potential aggressor.  Kremlin spokesman Dmitry Peskov said on Friday that Russia has never initiated an arms race and never will, the RIA news agency reported. In an apparent attempt to calm any tensions about his nuclear comments, Trump said in a statement on Friday that he had received “a very nice letter” from Putin earlier this month calling for stronger relations between the two countries.     A nuclear arms race is diametrically opposed to decades of Republican orthodoxy that has called for cuts in U.S. nuclear weapons since the Ronald Reagan White House. Trump’s tweet prompted analysts to question whether Trump was threatening to abrogate the 2011 New START treaty, which limits deployed warheads and delivery systems - or would begin deploying other warheads. The United States is one of five nuclear weapons states allowed to keep a nuclear arsenal under the Nuclear Non-Proliferation Treaty. The others are Russia, Britain, France and China. The United States is in the midst of a $1 trillion, 30-year  modernization of its aging ballistic missile submarines, bombers and land-based missiles, a price tag that most experts say the U.S. cannot afford. Russia, also bound by the treaty limits, is also carrying out a modernization program but is not expanding its warhead stockpile. Twitter is Trump’s communication method of choice. But its 140-character limit does not lend itself well to talking about complex geopolitical issues like nuclear proliferation fraught with risk, analysts charged. “He must have leaders around the world trying to guess what he means,” Daryl Kimball, the executive director of the Arms Control Association, said on Thursday.  Shares of uranium producers and a nuclear fuel technology company have jumped on Trump’s comments with Uranium Resources Inc, Uranium Energy Corp, Cameco Corp and Lightbridge Corp all trading higher on Friday.",
         "politicsNews",
         "December 22, 2016 ",
         "1"
        ],
        [
         "17",
         "11084",
         "U.S. government committed to helping Flint, Michigan, fix water problem: White House",
         "The U.S. government is committed to helping Flint, Michigan, succeed in fixing the problems with its lead-contaminated water system, White House spokesman Josh Earnest said on Wednesday. “There are significant public health consequences” to the contaminated-water crisis in Flint, Earnest told a White House news briefing. A federal official from the Department of Health and Human Services is in Flint, coordinating the assistance being provided by the federal government, he added.",
         "politicsNews",
         "January 27, 2016 ",
         "1"
        ],
        [
         "18",
         "20663",
         "Taiwan's new premier vows to 'build country', scrap investment hurdles",
         "Taiwan s new premier, William Lai, vowed on Friday to work towards luring greater investment to the self-ruled island, while sticking to the policies of the ruling Democratic Progressive Party. Lai, formerly the mayor of the southwestern city of Tainan, made the remarks at a cabinet transition ceremony following the resignation this week of his predecessor, Lin Chuan..  The cabinet reshuffle, at a time of low public approval ratings for President Tsai Ing-wen, will give the government an opportunity to push through legislation with less resistance.  Ratings for Tsai shrank to below 30 percent by August, a survey by a private foundation showed, down from nearly 70 percent soon after her landslide election victory in 2016.  My main responsibility is to build the country, expand the economy and look after the people,  said Lai, adding that his cabinet would press on with reforms in areas ranging from the energy industry to labor, pensions and tax, while  eliminating obstacles for investment . He added,  these will have a pragmatic strategy and will be solved in a steadfast way.  Dissatisfaction with labor and pension reforms are seen to have weighed on Tsai s ratings, sparking occasional protests. The reshuffle brought several new key appointments, though most of the other ministry-level positions stayed unchanged.  The financial supervisory commission gets a new chief, Wellington Koo, while acting economics minister Shen Jong-chin was confirmed in the role. A new vice premier and secretary-general were also appointed to the cabinet, or executive yuan.   Lai, a member of Tsai s independence-leaning party, won a landslide reelection in 2014 in Tainan, home to the plants of Taiwan Semiconductor Manufacturing Co (TSMC) and other technology firms.  The Harvard-educated Lai is expected to take a cautious stance in the transition, as shown by his modest personnel changes, analysts say.    Lai brings an effective administrative style, and will seek to keep the agenda on track,  said Edward Yang, an associate professor at National Taiwan Normal University.  His popular style also contrasts with that of Lin, who was seen as a less effective communicator, Yang added. The DPP is striving to shore up its popularity ahead of local elections next year in which it faces off against its main rival, the China-friendly Kuomintang (KMT) party.  Local election results are seen as a harbinger for the presidential election in 2020.",
         "worldnews",
         "September 8, 2017 ",
         "1"
        ],
        [
         "19",
         "13705",
         "Kremlin: no firm date yet for proposed congress of Syria's peoples",
         "No firm date has been set yet for a Congress of Syria s peoples proposed by Russia, the Kremlin said on Tuesday, stressing that such a forum should be as inclusive as possible.  There is no clarity yet (on the date), no one is setting a task for himself to adjust this event to the New Year holidays or after them,  Kremlin spokesman Dmitry Peskov told a conference call with reporters.  The main thing is to properly prepare and agree the lists (of the participants) - this is precisely the hardest part of it.",
         "worldnews",
         "November 28, 2017 ",
         "1"
        ],
        [
         "20",
         "20185",
         "U.S. says air strikes in Somalia kill six al Shabaab fighters",
         "The U.S. military said on Wednesday it had carried out air strikes in Somalia against an al Qaeda-allied Islamist group and killed six militants. The group, al Shabaab, is fighting to topple Somalia s Western-backed transitional federal government and impose its own rule on the Horn of Africa country. The U.S. military s Africa Command (AFRICOM) said in a statement it had carried out three air strikes on Wednesday at 2:15 a.m. local time (2315 GMT Tuesday).  The operation occurred in southern Somalia, about 260 kilometers (162 miles) south of the capital, Mogadishu,  the statement said.  Al Shabaab has lost control of most of Somalia s cities and towns since it was pushed out of Mogadishu in 2011. But it retains a strong presence in parts of the south and center and carries out gun and bomb attacks.",
         "worldnews",
         "September 13, 2017 ",
         "1"
        ],
        [
         "21",
         "20770",
         "SHAMEFUL! AIR FORCE VETERAN Ousted From Colleague’s Retirement Ceremony For Reading Dedication To U.S. Flag?! [VIDEO]",
         "OBAMA S AMERICA:  Why do you think people are leaving (the Air Force) in droves? What began as a dignified affair quickly turned into an embarrassing scene after a retired Air Force official was forcibly ejected from his colleague s retiree ceremony.The event was being held at Travis Air Force Base in California for Master Sergeant Chuck Roberson of the 749th Aircraft Maintenance Squadron.But the service was interrupted when Retired Senior Master Sgt. Oscar Rodriguez was forcibly ejected from the stage as he began to read out a statement honoring the American Flag to the audience.However, the recital was not a part of the usual procedure at retirement ceremonies and Rodriguez was told to stop.A video that captured the incident shows two men in camouflage uniform approach Rodriguez and say something quietly, but he appears not to respond.As the two men push him off stage, he continues to shout out the words, he is eventually pushed out of the room, but his shouts can still be heard in the distance.An investigation has since been launched into the disturbance, an Air Force Reserve official told Fox News Wednesday.An official said in a statement:  Rodriguez ignored numerous requests to respect the Air Force prescribed ceremony and unfortunately was forcibly removed. We will continue to investigate the situation fully. But John Huffington, who said he is a friend of the man whose retirement ceremony was taking place, posted the video on his Facebook with the comment:  This is disturbing at my friend s retirement today and the gentlemen that you are going to see in the video gets assaulted as a guest of my friend. He speaks the words of the color and strips [sic] as they fold the flag. The squadron commander and Oscar have issues from years ago the commander said he did not want him in the building nor saying the words to the flag. Remember he is my friend s guest. So instead of letting him finish what he started saying he had his trolls assault him dragging him out of the building as you can here [sic] him still saying the words to the flag. And you can here joe saying  do it do it. Theater is full of family and guests and fellow Air Force members. This could have been handled in a much better way instead of tainting my friend s retirement. This is how we treat our fellow Air Force veterans. Yes I m pissed off. And Stephen Sila, who identified himself as the officiating officer at the ceremony posted a long explainer on the Facebook page of John Q Public, an army blog where the story first appeared. Sila said that Rodriguez had been invited to speak at the ceremony and had planned to read a statement honoring the flag and that his appearance had been cleared through the proper avenues.But non squadron CC apparently had an issue with Rodriguez attending, apparently stemming from a personal issue at a previous squadron between the squadron CC and Mr Rodriguez, claimed Sila.He added:  Why do you think people are leaving (the Air Force) in droves? Because the guys in the trenches are subjected to nonstop stupidity from commanders who don t deserve the rank, respect, or support of the people they re in charge of. But the Air Force Reserve said in the statement it  respects and defends the right to free speech and religious expression.  Via: Daily Mail",
         "left-news",
         "Apr 6, 2016",
         "0"
        ],
        [
         "22",
         "20860",
         "Hashtag politics: Merkel tries to get in with Germany's kids",
         "After 12 years in power, Chancellor Angela Merkel is presenting  herself as more than just Germany s  Mutti , campaigning in cyberspace to get in with younger voters and win their support for long after elections this month. Merkel, whose nickname means  Mummy , appears to be cruising toward a fourth term with strong backing from older Germans. But the 63-year-old, who unlike some Western leaders has no personal Twitter account, wants to mobilize the almost 3 million first-time voters behind her conservative CDU party on Sept. 24. To this end, Merkel has fielded questions from four YouTube video bloggers, attended Europe s biggest computer games convention and set up a walk-in campaign center in Berlin s hip start-up district. Diana Kinnert, a 26-year-old who helped draft proposals to modernize the CDU, said parties should use new communication tools to make young people put off by  sterile  politics more politically engaged in the long term.  It would be a shame if it turned out to be just election noise,  Kinnert, who wears both tattoos and a baseball cap, told Reuters at the walk-in center. The CDU, which is unlikely to win an overall parliamentary majority, needs the youth vote to strengthen Merkel s hand in coalition negotiations that will follow polling day. To some bemusement, the party has created a Twitter hashtag #fedidwgugl. Rather than the result of a malfunctioning computer keyboard, it is an acronym for the CDU campaign slogan:  Fuer ein Deutschland In Dem Wir Gut und Gern Leben  ( For a Germany in which we can live well and gladly ). So the Berlin walk-in center, where themed rooms bring the CDU manifesto to life, is called  #fedidwgugl House .  In Britain, young people turned out in droves in June to vote for the opposition Labour party, stripping the ruling Conservatives of their majority and showing how youth can twist the fate of governments even if they are less numerous. With German society rapidly aging, older people still dominate the country s agenda. There are more than twice as many eligible voters aged over 60 as there are under 30. The CDU secured the highest share of the youth vote in 2013 but its support remains skewed toward pensioners. At the last election two-fifths of its backers were aged over 60 while just 5.4 percent were under 25. Kinnert, who has posted on Instagram wearing a T-shirt reading  Keep Calm and Vote for Angie , says Merkel never stops learning and is future-orientated despite her lengthy tenure. One of Merkel s top priorities is the digitization of German industry. She has Facebook and Instagram accounts and has made efforts to show she is up on social media even if it sometimes comes across as clunky. Asked about her favorite emoji during the YouTube interview, Merkel said it was a smiley:  If things are good, even one with a little heart,  she joked. Merkel s main challenger, Social Democrat leader Martin Schulz, has not shied away from cyberspace either. This week he was grilled on YouTube on topics such as legalizing cannabis, animal welfare and rolling out broadband internet. While the CDU was mocked for causing confusion with the #fedidwgugl hashtag, the media attention drew eyeballs to the CDU s agenda. Efforts to campaign over new media also play well with older voters who want the best for their children and grandchildren, said Stefan Marschall of Duesseldorf s Heinrich Heine University. Merkel is the only chancellor most first-time voters can recall. This helps CDU to portray her as an anchor of stability in the turbulent era of Donald Trump and Brexit. An opinion poll by Forsa in June found 57 percent of 18 to 21-year-olds backed Merkel compared with 53 percent of the wider population. Just 21 percent of the young supported Schulz. Forsa s managing director Manfred Guellner said younger Germans have become more conservative than their peers in other countries:  Young people here are pragmatic; they worry about their pensions.",
         "worldnews",
         "September 6, 2017 ",
         "1"
        ],
        [
         "23",
         "5327",
         "Progressive Champion Elizabeth Warren Will Deliver Keynote Speech To Democratic Convention",
         "The Democratic Party is poised to have a convention filled with powerhouse speakers that will dwarf the lineup of has-beens the GOP deployed.The Republican National Convention had unemployed actor Scott Baio and desperate Republicans who actually decided to show up. The Democratic Party will have New Jersey Senator Cory Booker, Vermont Senator Bernie Sanders and they will have Massachusetts Senator Elizabeth Warren in a spot that could very well set her up as Hillary Clinton s successor.Elizabeth Warren has successfully gotten under the thin skin of Donald Trump for months. Every time he attacks her on Twitter she responds by destroying him.In recognition of her efforts and her status as a defender of the poor and middle class in America against corporate exploitation, Warren has been chosen to deliver the keynote address at the DNC this week.Warren will be only the third woman to deliver the keynote speech. The first being Rep. Barbara Jordan in 1976, followed by beloved former Texas Governor and women s rights crusader Ann Richards in 1988. And while neither of those two women would go on to run for president, Elizabeth Warren stands on the cusp of history in the making. Hillary Clinton looks to become the first female president in American history. If she wins and serves with distinction, it could pave the way for Warren s rise as her successor in 2024 should she be willing to take on the mantle.As you may recall, a man named Barack Obama delivered the keynote address at the DNC Convention in 2004. Four years later he became the first African-American president in the United States.While the keynote address does not guarantee anyone of future presidential aspirations, it does mean a great deal to those who care about what the message of the party is. Warren is decidedly on the progressive wing of the Democratic Party, so she will more than likely focus on progressive issues such as raising the minimum wage, better healthcare, climate change, and working with our allies abroad while promoting tolerance and diversity. Clinton may not have chosen Warren as her running mate, but giving the keynote is a high honor and it gives Warren the opportunity to put progressive policies in the spotlight. This is especially important as Hillary continues to woo supporters of Bernie Sanders to her campaign.This keynote selection screams that Hillary Clinton is inching more to the left as progressives have been hoping and it gives progressives a bigger place at the table than they have had in many years. Combined with the platform changes Bernie Sanders was able to insert, this could signal a progressive agenda is on the way if Sanders  supporters are patient enough to let it happen gradually instead of all at once.The shift to the left could also mean that a more progressive candidate than Hillary Clinton could very well succeed her. That means progressivism has a bright future if they make sure a Democrat is elected to succeed President Obama in November. Because Donald Trump sure won t advance progressive policies.Featured image via Chris Somodevilla/Getty Images",
         "News",
         "July 25, 2016",
         "0"
        ],
        [
         "24",
         "12539",
         "Iran will treat jailed aid worker as Iranian citizen: foreign ministry",
         "Iran will treat a British-Iranian aid worker as an Iranian citizen and she will serve her sentence as determined by the judiciary, Iran s foreign ministry spokesman said on Monday. British Foreign Secretary Boris Johnson discussed Nazanin Zaghari-Ratcliffe s case with Iranian officials after flying to Tehran over the weekend to try to seek her release.  One of the issues that Johnson brought up in Tehran was the issue of Ms. Zaghari,  Iranian foreign ministry spokesman Bahram Qassemi was quoted by state media as saying.  With regard to her dual nationality, from our point of view of course she is Iranian and she has been sentenced by the judiciary and she will serve the period of her sentence.  Britain says Zaghari-Ratcliffe was visiting family on holiday in April 2016 when she was jailed by Iran for attempting to overthrow the government. Johnson said he urged the release of dual nationals.  I urged their release, on humanitarian grounds, where there is cause to do so,  Johnson told the British parliament.   These are complex cases involving individuals considered by Iran to be their own citizens, and I do not wish to raise false hopes. But my meetings in Tehran were worthwhile,  he said.  It is too early to be confident about the outcome.  Zaghari-Ratcliffe is not the only dual national being held in Iran, but her case has taken on political significance in Britain after Johnson said last month that she had been teaching journalists in Iran, which her employer denies. Johnson later apologized. Opponents have called for him to resign if his comments lead to her serving longer in prison. Qassemi said the Iranian foreign ministry would follow up on Zaghari-Ratcliffe s case but said that it was ultimately a matter for the judiciary. A project manager with the Thomson Reuters Foundation, Zaghari-Ratcliffe was sentenced to five years in prison after being convicted by an Iranian court of plotting to overthrow the clerical establishment. She denies the charges. The Thomson Reuters Foundation is a charity organization that is independent of Thomson Reuters and operates independently of Reuters News. It says Zaghari-Ratcliffe had been on holiday and had not been teaching journalism in Iran. Johnson also said he raised with Foreign Minister Mohammad Javad Zarif what he called  the official harassment of journalists working for BBC Persian and their families inside Iran.  The BBC has called on Iran to reverse a court order which it said effectively froze the non-liquid assets of 152 staff, former staff and contributors in Iran.",
         "worldnews",
         "December 11, 2017 ",
         "1"
        ],
        [
         "25",
         "10731",
         "Puerto Rico may issue delayed audited 2014 statements in April",
         "Puerto Rico’s much-delayed audited financial statements for 2014 are expected to be finished and issued by April, the U.S. territory’s governor said in a letter to U.S. House of Representatives Speaker Paul Ryan on Monday. The delay in completing the statements is due to the “complexities posed by our current financial crisis,” Governor Alejandro Garcia Padilla said in the letter, emailed by a representative for the commonwealth.  However, he added that there may be additional issues that arise that require an “adjustment to such timetable.” A draft of the financials, which cited “substantial doubt” about the government’s ability to continue as a going concern, was released last week, but did not include data from some agencies and has not been approved by auditors at KPMG.  The letter follows criticism from Republicans in Congress over the delay and a perceived lack of financial transparency from Puerto Rico. The island’s leaders are hoping for legislative help from Congress in tackling its $70 billion in debt, 45 percent poverty rate and dwindling population as locals flock to the mainland United States. Ryan has called on the Republican-led House to propose legislation by the end of March aimed at addressing Puerto Rico.  In Monday’s letter, Garcia Padilla gave a sense of what it might look like on the island if the government or its agencies failed to survive as going concerns — that is, became unable to meet financial obligations long term.  Entities subject to going concern assessments, Garcia Padilla wrote, include not only the government itself, but PREPA, the island’s sole power utility; HTA, which operates the island’s major roads; the Metropolitan Bus Authority, which transports thousands in the San Juan area; the Puerto Rico Medical Services Administration, the island’s main hospital and trauma center; and PRIHA, which oversees Medicaid benefits for 1.6 million poor residents.  Garcia Padilla also stressed that the Government Development Bank, Puerto Rico’s primary fiscal agent, may not be able to make debt payments in the last quarter of fiscal year 2016, and that the island may have to pass emergency legislation imposing a moratorium on GDB debt payments.",
         "politicsNews",
         "February 22, 2016 ",
         "1"
        ],
        [
         "26",
         "23108",
         "Aleppo Truth: Incredible Press Conference at the United Nations",
         "SEE MORE ALEPPO UPDATES & EXCLUSIVES HEREThis press conference is an excellent information tool for anyone who has serious questions about the true size and scope of the propaganda war being waged against Syria by governments and media organizations in the US, UK and EU member states. Please share with friends, family and colleagues On December 9, 2016, the permanent mission of the Syrian Arab Republic to the United Nations presented a panel of speakers who explained in detail what is really happening right now in Aleppo, Syria, and how the western media has intentionally distorted events in Syria over the last 5 years. Panels members include Dr. Bahman Azad, member of the coordinating committee for the Hands Off Syria and Organization Secretary of US Peace Council, and Eva Bartlett, independent Canadian journalist, Donna Nassor, professor and lawyer also part of US Peace Council, and Sara Flounders cofounder of the International Action Center. SUPPORT 21WIRE  SUBSCRIBE & BECOME A MEMBER @21WIRE.TV",
         "Middle-east",
         "December 12, 2016",
         "0"
        ],
        [
         "27",
         "16911",
         "Baghdad must show restraint, respect Kurdish rights, France says",
         "France on Friday called on Iraq s central government to show restraint after taking control of the last district in the oil-rich province of Kirkuk and said Baghdad should take the rights of Kurds fully into account.  Iraqi forces are seeking to reestablish Baghdad s authority over territory which the Kurdish forces occupied outside the official boundaries of their autonomous region, mostly seized since 2014 in the course of the war on Islamic State militants. [L8N1MV1K2]  We ask the federal government to show restraint and fully respect the rights of the Kurds,  foreign ministry spokeswoman Agnes Romatet-Espagne told reporters.  Tens of thousands of Kurds have fled Kirkuk and Tuz to the two main cities of the Kurdish autonomous region, Erbil and Sulaimaniya, according to Kurdish officials. The United Nations expressed concern on Thursday at reports of forced displacement and destruction of Kurdish homes and businesses, mainly in Tuz. Romatet-Espagne said the Kurds also needed to accept a dialogue with Baghdad within the framework of the constitution.",
         "worldnews",
         "October 20, 2017 ",
         "1"
        ],
        [
         "28",
         "16473",
         "JUDGE JEANINE IS FURIOUS! “Hillary Won’t Stop Lying!” [VIDEO]",
         "Can you blame her for losing her cool with Crooked Lying Hillary? Share this with all of your  undecided  friends!https://youtu.be/CCkXOix0g2Y",
         "Government News",
         "Aug 7, 2016",
         "0"
        ],
        [
         "29",
         "7277",
         "Short list of potential Trump administration picks",
         "U.S. President-elect Donald Trump recently announced the first major appointments to his administration but still has many positions to fill ahead of his inauguration on Jan. 20. Trump announced on Sunday he will hire Republican National Committee Chairman Reince Priebus as White House chief of staff and named Stephen Bannon, former head of the conservative web site Breitbart News, as his chief strategist and senior counselor. The selection of Bannon drew sharp criticism from Democrats, who criticized Breitbart News’ ties to racist messages. Below are people mentioned as contenders for senior roles. * Bob Corker, Tennessee senator and chairman of the Senate Foreign Relations Committee * John Bolton, former U.S. ambassador to the United Nations under President George W. Bush * Newt Gingrich, Republican former U.S. House Speaker * Zalmay Khalilzad, former U.S. ambassador to Iraq * Rudy Giuliani, Republican former mayor of New York City * Steven Mnuchin, former Goldman Sachs executive and Trump’s campaign finance chairman     * Jeb Hensarling, Texas Republican congressman and chairman of the House Financial Services Committee * Jamie Dimon, JPMorgan Chase & Co chief executive officer * Tom Barrack, founder and chairman of Colony Capital Inc * Lieutenant General Michael Flynn, former director of the Defense Intelligence Agency  * Stephen Hadley, former national security adviser under President George W. Bush * Jon Kyl, former Republican senator from Arizona * Jeff Sessions, Republican senator from Alabama and early Trump supporter, member of the Senate Armed Services Committee * Kelly Ayotte, outgoing Republican senator from New Hampshire and member of the Senate Armed Services Committee * Duncan Hunter, Republican congressman from California and early Trump supporter, member of House Armed Services Committee * Jim Talent, former Republican senator from Missouri who was on the Senate Armed Services Committee  * Rudy Giuliani * Jeff Sessions, senior member of the Senate Judiciary Committee who takes a hard line on immigration * Chris Christie, Republican New Jersey governor * Pam Bondi, Republican Florida Attorney General  * Trey Gowdy, Republican congressman from South Carolina who headed the House committee that investigated the 2012 attacks on the U.S. mission in Benghazi, Libya * Ben Carson, former neurosurgeon and 2016 Republican presidential candidate * Newt Gingrich * Rich Bagger, former pharmaceutical executive and former top aide to New Jersey Governor Chris Christie * Bobby Jindal, former Louisiana governor  * Michael McCaul, U.S. Republican congressman from Texas and chairman of the House Homeland Security Committee * David Clarke, Milwaukee county sheriff and vocal Trump supporter  * Joe Arpaio, outgoing Maricopa County, Arizona, sheriff who campaigned for Trump  * Myron Ebell, a climate change skeptic at the libertarian Competitive Enterprise Institute who is overseeing environmental policy on Trump’s transition team * Robert Grady, venture capitalist, partner in private equity firm Gryphon Investors  * Leslie Rutledge, Arkansas attorney general * Carol Comer, commissioner of the Indiana Department of Environmental Management * Harold Hamm, Oklahoma oil and gas mogul, CEO of Continental Resources Inc * Larry Nichols, co-founder of Devon Energy Corp * James Connaughton, CEO of Nautilus Data Technologies and a former environmental adviser to President George W. Bush * U.S. Representative Kevin Cramer, of North Dakota * Robert Grady * Sarah Palin, Republican former Alaska governor who ran for vice president in 2008 * Jan Brewer, former Arizona governor * Forrest Lucas, founder of oil products company Lucas Oil * Harold Hamm * Robert Grady * Linda McMahon, former world Wrestling Entertainment executive and two-time Senate candidate * Lieutenant General Michael Flynn * Mike Rogers, Republican former representative from Michigan who chaired the House Intelligence Committee * Pete Hoekstra, Republican former representative from Michigan * Lieutenant General Michael Flynn * Stephen Hadley * Kelly Ayotte * Richard Grenell, former spokesman for the United States at the United Nations  * Peter King, Republican representative from New York * Dan DiMicco, former chief executive of steel producer Nucor Corp * Jeff Miller, retiring congressman from Florida and chairman of the Veterans Affairs committee",
         "politicsNews",
         "November 15, 2016 ",
         "1"
        ],
        [
         "30",
         "12525",
         "May hails new optimism in Brexit talks after deal",
         "Prime Minister Theresa May hailed  a new sense of optimism  in Brexit talks, telling parliament on Monday an agreement to move negotiations on to future trade ties is progress and will reassure those concerned Britain may leave with no deal. May, weakened after losing her Conservatives  majority at a June election, rescued an agreement last week to move the talks to unravel more than 40 years of union on to a second phase after easing the concerns of her Northern Irish allies over the future role of the border with EU member Ireland. But the discussion of Britain s trade relationship with the EU after Brexit contains many pitfalls and could widen differences among her top team of ministers, or cabinet, over how Britain should look after it leaves the bloc.  In a statement to parliament, May took to task those who doubted that she could move the talks beyond the initial stage of agreeing terms on how much Britain should pay, citizens  rights and the border between the British province of Northern Ireland and EU member Ireland.       This is good news for people who voted leave who were worried we were so bogged down in the tortuous negotiations it was never going to happen,  she told parliament.  It is good news for people who voted remain who were worried were going to crash out without a deal.  May will head to Brussels on Thursday for a summit meeting at which she expects the leaders of the other 27 EU states to approve an assessment by negotiators that the sides have made  sufficient progress  to move on to phase two. But she warned that the government will only pay a financial settlement if Britain and the EU secure a future trade deal. The deal to launch further talks looked in jeopardy a week ago when May was forced to abandon a choreographed meeting in Brussels intended to seal the deal after her allies in Northern Ireland expressed fears she was proposing a special status for the region - out of sync with the rest of the United Kingdom. After days of diplomacy, there was a compromise - if no overall Brexit deal is secured, Britain will keep  full alignment  with those rules of the EU s single market that help cooperation between Ireland s north and south. But those words have reverberated in both London and Belfast, with Brexit minister David Davis saying they were more  a statement of intent  than a legally binding move. On Monday, Davis told LBC radio his words had been taken out of context and denied he was backing away from the commitment, which the EU described as  a deal between gentlemen .  And it is the clear understanding that it is fully backed and endorsed by the UK government,  the European Commission s chief spokesman Margaritis Schinas told reporters in Brussels. Davis  comments may have been aimed at members of the Northern Irish Democratic Unionist Party, which props up May s Conservative minority government in parliament after the party expressed concerns about how alignment could work without Britain staying in the EU s single market and customs union. Or he may have wanted to ease the fears of some campaigners for Britain to leave the EU, who say the possibility of having to follow the bloc s rules would mean that they would have Brexit in name only. But May said the commitments made in the first round of talks   which includes a payment of 35-39 billion pounds over many years to meet EU obligations   were necessary to sever ties with the bloc.  In doing so we can move on to building the bold new economic and security relationships that can underpin the new deep and special partnership we all want to see,  she said.  A partnership between the European Union and a sovereign United Kingdom that has taken control of its borders, money and laws once again.",
         "worldnews",
         "December 11, 2017 ",
         "1"
        ],
        [
         "31",
         "436",
         "Mother Of DACA Recipient Who Died Rescuing Flood Victims Refused Entry Into U.S. To Bury Her Son",
         "Donald Trump is set to end the Deferred Action for Childhood Arrivals program, also known as DACA, an Obama-era policy. It s a real d*ck move that is so appalling even Republicans are calling him out on it. Approximately 800,000 young people will be subject to immediate deportation, and that would have included Alonso Guillen, a 31-year-old disc jockey from Lufkin, Texas who gave his life while trying to rescue others in the state in the wake of Hurricane Harvey.On Wednesday, Guillen disappeared along with two of his friends after their boat hit the bridge over the creek and capsized, the Houston Chronicle reports.One of his friends clung to a tree and was eventually rescued but days later, Guillen and Tomas Carreon Jr. were still missing. Carreon s body was found floating down the creek on Friday.On Sunday, Guillen s body was found as it floated past a sandy berm. A relative quickly dove in and pulled his body to the shoulder of the creek. Soon after, a boat took him to shore.The Houston Chronicle reports:Guillen s father, Jesus Guillen, said he d asked his son not to try and rescue people in the storm, but he insisted, saying he wanted to help people. He cried and prayed on Sunday afternoon as they pulled his son s body from the water. Thank you, God,  he said,  for the time I had with him. Trump would have had Mr. Guillen deported and now Border agents are refusing to let his mother into the U.S. in order to bury her son.Guillen was a recipient of the DACA program and his father is here legally but his mother, Rita Ruiz de Guillen, 62, is still in the application process for legal status.Mrs. Guillen said from her home in Rita Ruiz, Mexico, across the border from Eagle Pass, that she s asking God for strength. I ve lost a great son, you have no idea,  she said while weeping softly on the other end of the phone.  I m asking God to give me strength. She explained that she had hoped that U.S. Customs and Border Protection officials would take pity and grant her a humanitarian visa so that she could go to Houston and bury her son, but she was turned back at the border. When we are with God, there are no borders,  she said.  Man made borders on this earth. To a man like Donald Trump, Alonso Guillen is one  bad hombre.  To anyone with a heart, he died a hero.Featured image via Christopher Furlong/Getty Images",
         "News",
         "September 4, 2017",
         "0"
        ],
        [
         "32",
         "4331",
         "Watch Lindsey Graham Accept Defeat Over Trump: ‘I Can’t Go Where He’s Taking The Country’ (VIDEO)",
         "Lindsey Graham has been one of the biggest Republican voices against GOP nominee Donald Trump, and he only grew louder as Trump gained more support. The South Carolina senator has had a hard time of it, too   he has called on Trump to apologize for several offensive things he s said, then he supported Trump briefly before aggressively crusading to get the Republican party to un-endorse Trump, and then he revealed that he himself would not be endorsing the humiliating candidate.Graham has been a nervous wreck over having to watch Trump destroy his beloved GOP right before his very eyes. But earlier today, Graham seemed to have finally accepted defeat and the fact that the Republican party he has known and loved will never be the same again. In an interview with At This Hour s Kate Bolduan and John Berman on CNN, Graham sorrowfully said: I ve come to the point now where I can t go where he is taking the party or the country. Graham also expressed that he was worried about what Trump s intentions were for America, but showed a brilliant amount of ignorance as he expressed he was open to the idea that Trump might grow as a politician (not happening). And to prove what a mess Trump s campaign really is, Graham brought up a talking point of Trump s, only be told by the hosts that it was actually an idea that came from Mike Pence, Trump s VP pick.You can watch Graham accept his circumstances below, and you can tell that it s absolutely killing him.Sen. Lindsey Graham on Trump:  I can t go where he is taking the party  https://t.co/6OZtrfIwim https://t.co/FgCRZeO6Er  CNN Politics (@CNNPolitics) October 6, 2016 Graham seems absolutely destroyed by a GOP under Trump, but we all know that conservatives have created this nightmare for themselves. They created a hateful, bigotry-filled political climate that allowed someone like Trump to excel, and they failed to stop him.Featured image via Scott Olson / Getty Images",
         "News",
         "October 6, 2016",
         "0"
        ],
        [
         "33",
         "2559",
         "Senate committee issues subpoena for Manafort: statement",
         "A U.S. Senate panel has issued a subpoena to force Paul Manafort, a former campaign manager to President Donald Trump, to appear at a hearing on Wednesday as part of its probe into Russia’s role in the 2016 presidential election. The Republican chairman of the Senate Judiciary Committee, Charles Grassley, and the top Democrat on the panel, Dianne Feinstein, said the subpoena was issued late on Monday after Manafort did not agree to an interview. “While we were willing to accommodate Mr. Manafort’s request to cooperate with the committee’s investigation without appearing at Wednesday’s hearing, we were unable to reach an agreement for a voluntary transcribed interview with the Judiciary Committee,” they said in a statement on Tuesday. They said Manafort was willing to provide only a single transcribed interview to Congress, which would be available to the Judiciary Committee as well as other panels. “As with other witnesses, we may be willing to excuse him from Wednesday’s hearing if he would be willing to agree to production of documents and a transcribed interview,” they said. The panel leaders also said any Manafort interview would not constitute a waiver of his rights and the committee could require that he testify in the future. Earlier, NBC News reported Manafort would speak with Senate investigators within 48 hours, citing a source close to Manafort.  It said he was likely to be questioned about a June 2016 meeting in New York with a Russian lawyer. Trump’s eldest son, Donald Trump Jr, has released emails that showed he welcomed the prospect of receiving damaging information at the meeting about Democratic rival Hillary Clinton. The Senate panel is one of several congressional committees investigating alleged Russian efforts to tilt the election in the Republican candidate’s favor and possible collusion by Trump’s campaign. Moscow has denied such efforts, and Trump has denied his campaign colluded.",
         "politicsNews",
         "July 25, 2017 ",
         "1"
        ],
        [
         "34",
         "3446",
         "China Fires Back As Trump Drama ESCALATES Before He Even Takes Office",
         "President-elect Donald Trump has yet to take office, yet he s still causing international issues for America. Just last week, on December second, Trump had a 10-minute conversation with Tsai Ing-wen, the president of Taiwan. This was the first time a US President or president-elect had a direct conversation with Taiwan officials since 1979.In 1979 Taiwan was diplomatically recognized as China as part of the  One China  policy. Since then there has been no direct contact between Taiwanese and US leaders. Well, Trump ruined that. He claimed in a tweet that Tsai Ing-wen called him, but it s debated whether or not the phone call had been arranged by Trump s  Taiwan friendly  staff.The President of Taiwan CALLED ME today to wish me congratulations on winning the Presidency. Thank you!  Donald J. Trump (@realDonaldTrump) December 3, 2016Donald said it was a mere congratulatory call, but the transition team said otherwise:  President-elect trump spoke with President Tsai Ing-wen, who offered her congratulations,  they wrote.  During the discussion, they noted the close economic, political, and security ties exist between Taiwan and the United States. President-elect Trump also congratulated President Tsai on becoming President of Taiwan earlier this year.  His team also claimed the call was planned months in advance. After receiving some criticism for the phone call Trump responded in a Tweet once again:Interesting how the U.S. sells Taiwan billions of dollars of military equipment but I should not accept a congratulatory call.  Donald J. Trump (@realDonaldTrump) December 3, 2016In response to Trump s actions, China flew an H-6, an airplane capable of carrying nuclear bombs along the  nine-dash line . US officials reported to Fox News that this was to send a message to the new administration. With this phone call we can be sure that Trump has put some doubt in the minds of Chinese officials about his intentions.Featured image via Getty Images",
         "News",
         "December 12, 2016",
         "0"
        ],
        [
         "35",
         "6944",
         "Trump is 'well aware' of what U.S. policy has been on Taiwan: spokeswoman",
         "Donald Trump is “well aware” of what U.S. policy has been on Taiwan, Trump’s spokeswoman said, after the U.S. president-elect spoke by phone on Friday with Taiwan’s president, a move likely to infuriate China.  “President-elect Trump is fully briefed and fully knowledgeable about these issues on an ongoing basis, regardless on who is on the other end of the phone,” Trump spokeswoman Kellyanne Conway told CNN.",
         "politicsNews",
         "December 3, 2016 ",
         "1"
        ],
        [
         "36",
         "9640",
         "Alabama's top judge faces ethics charges over gay-marriage order",
         "Alabama’s Supreme Court Chief Justice was suspended on Friday  for ordering state probate judges not to grant marriage licenses to gay couples, despite contrary rulings by a federal court and the U.S. Supreme Court. Chief Justice Roy Moore, an outspoken opponent of same-sex unions, faces possible removal from the bench after the Alabama Judicial Inquiry Commission charged him with violating the state’s judicial ethics laws, according to news website AL.com.  The legality of gay marriage had been at the center of a national debate until the Supreme Court ruled in June that the U.S. Constitution provides same-sex couples the right to marry, handing a historic triumph to the American gay rights movement.   Despite the decision and a federal court ruling that made gay marriage legal in Alabama, Moore in January issued an administrative order to state probate judges that they should not issue marriage licenses to same-sex couples, according to court documents.  “Chief Justice Moore flagrantly disregarded and abused his authority,” the complaint said. “Moore knowingly ordered (probate judges) to commit violations ... knowingly subjecting them to potential prosecution and removal from office.” Moore said in a statement that the commission had no authority over administrative orders or the court’s ability to prohibit probate judges from issuing same-sex marriage licenses.   “We intend to fight this agenda vigorously and expect to prevail,” he said.   Moore wrote in his order that the U.S. Supreme Court ruling was at odds with a decision in March 2015 by the Alabama Supreme Court that instructed probate judges to stop issuing marriage licenses to same-sex couples. The conflicting opinions had resulted in “confusion and uncertainty,” Moore said, with many probate judges issuing marriage licenses to gay couples while others refused to do so. [uL1N14R283] The Human Rights Campaign, the biggest U.S. gay rights organization, hailed the suspension. “Roy Moore is an embarrassment to the state of Alabama,” Eva Walton Kendrick, the group’s Alabama state manager, said in a statement. Moore, a Republican, has been a hero of conservative causes before. In 2003, he was removed from office after a federal judge ruled he was placing himself above the law by refusing to take down a Ten Commandments monument. He won the chief justice job back in 2012, vowing not to do anything to create further friction with the federal courts.",
         "politicsNews",
         "May 7, 2016 ",
         "1"
        ],
        [
         "37",
         "8326",
         "U.S. Senator McCain wins Arizona Republican nominating contest",
         "Senator John McCain survived a Tea Party challenge when he won Arizona’s Republican nominating contest on Tuesday, enabling him to seek a sixth term as U.S. senator from the southwestern state, according to media projections. McCain, 80, defeated former Arizona state Senator Kelli Ward and is slated to defend his Senate seat against Democratic  Representative Ann Kirkpatrick in the Nov. 8 election.",
         "politicsNews",
         "August 31, 2016 ",
         "1"
        ],
        [
         "38",
         "10290",
         "Sergeant Bergdahl says 'fantastic' plan crumbled hours after leaving post",
         "U.S. Army Sergeant Bowe Bergdahl had devised what he told a military investigator was a “fantastic plan” to leave his post so he could inform higher-ups about problems in the ranks, but that fell apart when he realized he took on more than he could manage. Bergdahl, 29, who walked away from his post in Afghanistan in 2009 and became a Taliban prisoner for five years, is facing a court-martial with a potential life sentence on charges of desertion and endangerment of U.S. troops. In a 371-page interview made public on Wednesday, Bergdahl said he was frustrated and concerned about the command at his post in Afghanistan, seeing it as incompetent, immoral and putting soldiers’ lives in danger. He devised a scheme to leave and travel by foot to a military command about 20 miles away, with his disappearance causing a full-scale search. When he arrived, he thought this would get him an audience with a general to air his grievances. “I came up with a fantastic plan,” he told the military investigator in 2014 about three months after his release. “I was seeing things heading in a very dangerous direction. So, I had to do something.”  He left at night and was captured the next day by the Taliban.   “By daylight, I will admit I was in over my head,” he said in the transcript released by Bergdahl’s lawyer Eugene Fidell, of an interview with Army investigator, Major General Kenneth Dahl, in 2014. At the end of the interview, Dahl mentioned desertion, AWOL and fraudulent enlistment offenses to Bergdahl but made no mention of the more serious charge of endangering U.S. troops, which carries up to a life sentence, according to the transcript.  At an evidentiary hearing in Texas in September 2015, Dahl said he did not believe Bergdahl should be jailed for what he did. He said Bergdahl was not a Taliban sympathizer and characterized him as an unrealistically idealistic soldier.  Dahl also said no soldiers directly involved in the search for him were killed. U.S. military prosecutors have said Bergdahl sneaked off his  post, resulting in a 45-day search that put soldiers’ lives at risk and diverted attention from the fight against the Taliban. Bergdahl was freed in a prisoner swap in May 2014 involving the release of five Taliban leaders held by the United States. The deal drew heavy criticism from Republicans.",
         "politicsNews",
         "March 17, 2016 ",
         "1"
        ],
        [
         "39",
         "6912",
         "Bill Nye CRUSHES The A-Hole Who Started The Rumor That He Would Debate Sarah Palin (VIDEO)",
         "The internet went giddy with anticipation earlier this week when a story came out of Variety Magazine claiming that Bill Nye had been invited to debate Sarah Palin on the subject of climate change after the debut of the climate-denier propaganda film Climate Hustle in early May. Before Variety could update their article after being contacted by a Nye spokesperson with the truth, media outlets across the web had picked up and reported on the story.Before long it was trending all over social media. Even with the story being updated with the information that Nye would only appear in pre-recorded clips, the excitement of Palin going down in flames in what would have been the butt-kicking of the century continued to spread far and wide. Unfortunately, it isn t going to happen. The clips of Nye will most likely be heavily edited to make it look like he s hiding something as if there s some kind of profit to be made on the  hoax  that the earth is getting warmer.According to Nye, the man behind the movie and the panel of  experts,  Marc Morano, is the guy who started the rumor in the first place. Morano apparently used the idea of a debate between The Science Guy and the Queen of the Ditzes to promote his film. Nye says he was never invited to any such panel to debate anything: Marc Morano did not invite me to his movie but he said I refused to come after he did invite me   he was making that up. It s disingenuous, at best. The video is yet another beautiful and punishing blow by Bill Nye to yet another anti-science buffoon. There s been no response from Morano, but rumor has it he s in Kentucky drinking biblical mead and licking his wounds with Ken Hamm. Enjoy the video below, courtesy of Bill Nye s Facebook Page:https://www.facebook.com/billnye/videos/vb.48947135361/10154211049280362/?type=2&theaterFeatured image by Frederick Brown/ Getty Images",
         "News",
         "April 14, 2016",
         "0"
        ],
        [
         "40",
         "14176",
         "WHOA! JOHN KASICH Makes A Crazy Prediction About The GOP Convention You Just Won’t Believe",
         "Could the people behind this delusional candidate just give him the low down that he s got NO chance at the Republican nomination unless he steals it in that case he s even crazier and more passive aggressive than we thought. John Kasich is saying it s going to be  cool  and the he thinks he s going to be the nominee: It s going to be so much fun. Kids will spend less time focusing on Bieber and Kardashian and more time focusing on how we elect presidents. It will be so cool. Republican presidential candidate John Kasich said he thinks he has a good chance at a contested convention this summer. I believe that a convention will look at somebody like me, and that s why I think I m going to be the nominee,  the Ohio governor said on ABC s  This Week  on Sunday.Kasich said he expects to continue gaining momentum and picking up delegates until the convention. Kasich then touted his poll numbers in head-to-head match-ups against Democratic front-runner Hillary Clinton, saying he beats Clinton in  virtually every poll. I m the only one that does it on the Republican side,  he said.He also talked about his record on job growth, adding he has international foreign policy knowledge and the experience to be a competitive candidate. We just have to keep going, and we re going to have an open convention,  Kasich said. It s going to be so much fun. Kids will spend less time focusing on Bieber and Kardashian and more time focusing on how we elect presidents. It will be so cool. Read more: The Hill",
         "politics",
         "Apr 3, 2016",
         "0"
        ],
        [
         "41",
         "4159",
         "T-shirts Were Sold Outside Bills Game With Rifle Sight On Kaepernick (IMAGES)",
         "San Francisco 49ers quarterback Colin Kaepernick again took to his knee during the national anthem in Sunday s game against the Buffalo Bills, but before that, a loud chant of  USA, USA  could be heard at the stadium from those offended by his right to silently protest against racial inequality.The chants weren t even the worst thing on display. Just outside of the stadium, t-shirts were being sold with an image of Kaepernick with a rifle sight on him. The text on the t-shirt reads,  Wanted  and  Notorious Disgrace to America. Another t-shirt reads,  Shut Up And Stand Up!  along with the quarterback s last name spelled  Kaeperdick  and an image of him.Robert Klempko of MMQB tweeted,  Shirts with a rifle scope trained on Colin Kaepernick selling for $10 outside of Ralph Wilson stadium.  It gets even worse:Elsewhere outside the stadium, one group of fans were hitting a dummy wearing a Kaepernick jersey and an afro wig. Per Klemko, one fan, yelled,  Tackle the Muslim. That ugly display was captured on video and so was this incident:Here's a very drunk Bills fan spearing a dummy with Kaepernick jersey and afro wig. pic.twitter.com/PDo0NL2Pcp  Robert Klemko (@RobertKlemko) October 16, 2016Klempko wrote in a following tweet,  FWIW: Guy walking past this scene cupped his hands around his mouth and yelled,  THIS JUST MAKES BUFFALO LOOK BAD! FWIW: Guy walking past this scene cupped his hands around his mouth and yelled, \"THIS JUST MAKES BUFFALO LOOK BAD!\"  Robert Klemko (@RobertKlemko) October 16, 2016While conservatives consider Kaepernick s continued protest over racial inequality and oppression in the United States to be unpatriotic, they probably also think descending on Washington D.C. with t-shirts describing America s first black president as a scary black Kenyan is patriotic. I don t understand what s un-American about fighting for liberty and justice for everybody, for the equality this country says it stands for,  Kaepernick said after the game.  To me, I see it as very patriotic and American to uphold the United States to the standards that it says it lives by. But Kaepernick was not alone. Outside the stadium, African-Americans and whites knelt in solidarity with the quarterback s cause.#Bills fans, black and white, kneel during the anthem outside the stadium before the #49ers game. pic.twitter.com/kCmsIs94GM  Nick Veronica (@NickVeronica) October 16, 2016On a good note, Kaepernick said death threats are  rare occurrences now.  On a bad note, he never should have received death threats in the first place.Photo by Thearon W. Henderson via Getty.",
         "News",
         "October 17, 2016",
         "0"
        ],
        [
         "42",
         "15094",
         "China faces historic corruption battle, ruling party's new graft buster says",
         "China must win its battle against corruption or face being erased by history, its new top graft buster said in an editorial on Saturday, underscoring the ruling Communist Party s focus on eliminating corrupt behaviour. Zhao Leji, appointed to the new seven-member Politburo Standing Committee last month and tasked to lead President Xi Jinping s signature war on corruption, wrote in the state-run People s Daily that failure would lead to the party s downfall.  If our control of the party is not strong and party governance is not strict, then the party won t be able to avoid being erased by history and the historic task the party carries will not be able to be fulfilled,  Zhao wrote. Xi, like others before him, has warned that corruption is so serious it could lead to the end of the party s grip on power. Xi s corruption fight has ensnared more than 1.3 million officials. At last month s five-yearly party congress he said it would continue to target both  tigers  and  flies , a reference to elite officials and ordinary bureaucrats. Zhao, formerly a low-profile official, replaced Wang Qishan, whose sweeping anti-graft campaign had made him China s second most-powerful politician.  The facts tell us and warn us that the party s position as the top political leader and power is the foundation of our political stability, economic development, national unity and social stability,  Zhao wrote. Zhao leads the Central Commission for Discipline Inspection (CCDI), having previously been in charge of the party s powerful organisation department, which is in charge of personnel decisions. He added that there would be no tolerance of people who  just do what they want to do  and ignore orders or carry on with banned behaviours like trying to get around policy decisions. Promotions also needed to be rigorously scrutinised, he said, a reference to numerous previous scandals where corrupt officials had abused their power or taken bribes to promote friends and family members.  Officials  personal files must be examined, and individuals  reports on their personal matters must be verified,  Zhao wrote. Above all, the leadership of the Communist Party had to be maintained, as the last 100 years of history had shown that without the party s leadership  there is no way out , he added. China has plans for a national supervision law and a new commission next year to oversee the expansion of Xi s graft fight.",
         "worldnews",
         "November 11, 2017 ",
         "1"
        ],
        [
         "43",
         "5522",
         "White House defends Trump criticism of Nordstrom for dropping Ivanka clothing line",
         "The White House defended President Donald Trump’s criticism of the Nordstrom retail chain on Wednesday, saying the firm’s decision to drop his daughter Ivanka’s clothing line for the coming season was politically motivated attack. “I think this was less about his family’s business than an attack on his daughter,” White House spokesman Sean Spicer told a news briefing. Although Nordstrom has said the decision not to carry Ivanka Trump’s line was based on its performance, Spicer said there had been “a direct attack on his policies and her name” and Trump was standing up for her because she was “being maligned because they have a problem with his policies.”",
         "politicsNews",
         "February 8, 2017 ",
         "1"
        ],
        [
         "44",
         "4409",
         "Hillary Clinton Mocks Donald Trump With An AMAZING Tweetstorm At 3 AM",
         "This is hilariously perfect.Hillary Clinton has already responded to Republican nominee Donald Trump s 3am temper tantrum on Twitter but decided to double down early Saturday morning by mocking him with a 3am Twitter barrage of her very own. Except whereas Trump focused on hurling sexist insults, Hillary focused on touting public service and threw in some characteristic Trump-speak.It s 3:20am. As good a time as any to tweet about national service. https://t.co/6hRCC16UiV  Hillary Clinton (@HillaryClinton) October 1, 2016There are hundreds of thousands more @AmeriCorps applications than spots. Horrible! Let s expand it from 75,000 annual members to 250,000.  Hillary Clinton (@HillaryClinton) October 1, 2016Too many talented young people pass up on programs like @Peacecorps because of student loans. Let s use GOOD JUDGMENT & lighten that burden.  Hillary Clinton (@HillaryClinton) October 1, 2016Remember, don t believe the haters who describe America as hopeless and broken. We should lift each other up, not tear each other down.  Hillary Clinton (@HillaryClinton) October 1, 2016For those few people knocking public service, hope you ll reconsider answering the call to help others. Because we re stronger together.  Hillary Clinton (@HillaryClinton) October 1, 2016Prior to Hillary s tweets, Massachusetts Senator Elizabeth Warren absolutely humiliated Trump on her Twitter feed as well.Warren pointed out that Trump never tweets about truly important things at 3am such as helping students and workers. Then she landed this knock-out punch.A thin-skinned bully who thinks humiliating women at 3am qualifies him to be President does not understand America & is not fit to lead.  Elizabeth Warren (@elizabethforma) September 30, 2016While Trump acts like a petulant child, Hillary Clinton is demonstrating that she is the adult in the 2016 race.Trump s Twitter tantrum early Friday morning was disgraceful and proved that he does not have the temperament necessary to be President of the United States.Hillary Clinton, on the other hand, is the only candidate in this race who has the experience, dedication to public service, and, yes, the perfect temperament to be an effective commander-in-chief. This is how a presidential candidate is supposed to act.Featured image: Justin Sullivan/Getty Images",
         "News",
         "October 1, 2016",
         "0"
        ],
        [
         "45",
         "12068",
         "WATCH STANDING OVATION For The Trump Family As They Arrive for Christmas Eve Service [VIDEO]",
         "https://www.youtube.com/watch?v=JzM9awNaewMThe Trump family has frequented the church many times in the past few decades. Trump married his third and current wife, Melania, there in 2005. The following year, Trump s youngest son, Barron, was christened there. And Trump attended the Christmas Eve service at Bethesda-by-the-Sea last year, and the Easter service earlier this year.Fun fact: Michael Jordan was married at the church in 2013.",
         "politics",
         "Dec 25, 2016",
         "0"
        ],
        [
         "46",
         "11158",
         "COLLEGE SNOWFLAKES FREAK OUT! “Feel Unsafe” Over VP Pence’s Planned Commencement Speech [Video]",
         "Notre Dame students are freaking out over Vice President Pence s planned commencement speech. Once again, the college snowflakes are trying to shut down free speech. How will these students ever survive in the real world?The college is breaking with a 60-year tradition by not inviting the sitting president to speak. Instead, the University President announced Pence s scheduled visit noting he s a  native son : It is fitting that in the 175th year of our founding on Indiana soil that Notre Dame recognize a native son who served our state and now the nation with quiet earnestness, moral conviction and a dedication to the common good characteristic of true statesmen,  said Notre Dame President Rev. John I. Jenkins, C.S.C.  With his own brand of reserved dignity, Mike Pence instilled confidence on the state level then, and on the world stage now. We are proud to welcome him to represent the new administration. Notre Dame students protesting VP Pence as this year s commencement speaker because it makes them  feel unsafe  pic.twitter.com/W7mJoFp6dV  FOX & friends (@foxandfriends) April 12, 2017 University of Notre Dame students have begun a  #NotMyCommencementSpeaker  white board campaign to protest the invitation of Vice President Mike Pence to speak at Commencement.Last week, seniors Immane Mondane and Jourdyhn Williams invited students to take photos holding white boards with  direct quotes from Pence that are racist, sexist, homophobic, xenophobic, offensive, or ostracizing to members of our community,  along with the hashtag  #NotMyCommencementSpeaker. Alternatively, students could also write about why they  feel unsafe with the presence of Mike Pence on our campus,  with daily opportunities to have photos taken with their whiteboards through the week.Once all the photos have been compiled, the organizers plan to share them on social media in hopes of starting a  discussion  about Pence s invitation. For me personally, Pence represents the larger Trump administration,  Mondane told The Observer.  His administration represents something, and for many people on our campus, it makes them feel unsafe to have someone who openly is offensive but also demeaning of their humanity and of their life and of their identity. While the photos do not appear to have been posted yet, Mondane provided The Observer with several examples of the complaints that students shared.One student used a quote from Pence favoring traditional marriage, writing on their board,  Congress should oppose any effort to put gay and lesbian relationships on an equal status with heterosexual marriage  -Pence #NotMyCommencementSpeaker. Another read,  Because I am the daughter of Immigrants Family  of LGBTQ folks. Read more: Campus Reform",
         "politics",
         "Apr 12, 2017",
         "0"
        ],
        [
         "47",
         "7212",
         "U.S. spy chief declines to comment on whether Russia shared info with Americans from hacks",
         "The U.S. Director of National Intelligence declined to comment on Thursday when asked whether Russia or those responsible for hacking the Democratic Party or Democratic party organizations had shared any information with the United States or Americans over the last year and a half.  “Sir, I’d rather not respond off the top of my head and in any event this would probably best left to a classified session,” James Clapper told a House intelligence committee hearing.",
         "politicsNews",
         "November 17, 2016 ",
         "1"
        ],
        [
         "48",
         "21195",
         "China probes former vice-chief of securities regulator for graft",
         "A former vice-chairman of China s securities regulator, Yao Gang, is being investigated for taking bribes, the official China Daily said, citing the prosecutors  office. Yao was one of the most senior figures arrested in a  crackdown on suspected stock manipulation in late 2015, after the mid-year collapse of the Chinese stock market following a long bull run. Yao was subject to  coercive measures,  which can range from summons and surveillance to detention and arrest, among other actions, the Supreme People s Procuratorate said, without specifying which he faced, the newspaper said on Thursday. In July, China s graft watchdog said Yao would be prosecuted for offences that included taking bribes and  destroying the order of capital markets . Yao, 55, was the general manager of Guotai Junan Securities in 1999 before taking a position with the China Securities Regulatory Commission in 2002, the paper said. At the CSRC, he was known as the  King of IPOs , overseeing initial public offerings on the Chinese mainland for 13 years, it added.",
         "worldnews",
         "September 1, 2017 ",
         "1"
        ],
        [
         "49",
         "3938",
         "FBI's Comey on Trump travel ban: 'citizenship alone' not threat indicator",
         "FBI Director James Comey concurred with a Democratic lawmaker on Wednesday that citizenship alone is not a reliable indicator of the “terror threat” a person may pose to the United States, a rebuke of President Donald Trump’s executive order banning travel from several Muslim-majority countries.  “Most of the people that I talked about that we have open cases on are American citizens,” Comey told a U.S. Senate panel, agreeing with  Senator Patrick Leahy that citizenship does not determine a person’s intentions. Trump’s restrictions on visa issuance to citizens of Syria, Iran, Libya, Yemen, Sudan and Somalia is on hold by federal court order.",
         "politicsNews",
         "May 3, 2017 ",
         "1"
        ]
       ],
       "shape": {
        "columns": 6,
        "rows": 30000
       }
      },
      "text/html": [
       "<div>\n",
       "<style scoped>\n",
       "    .dataframe tbody tr th:only-of-type {\n",
       "        vertical-align: middle;\n",
       "    }\n",
       "\n",
       "    .dataframe tbody tr th {\n",
       "        vertical-align: top;\n",
       "    }\n",
       "\n",
       "    .dataframe thead th {\n",
       "        text-align: right;\n",
       "    }\n",
       "</style>\n",
       "<table border=\"1\" class=\"dataframe\">\n",
       "  <thead>\n",
       "    <tr style=\"text-align: right;\">\n",
       "      <th></th>\n",
       "      <th>Unnamed: 0</th>\n",
       "      <th>title</th>\n",
       "      <th>text</th>\n",
       "      <th>subject</th>\n",
       "      <th>date</th>\n",
       "      <th>label</th>\n",
       "    </tr>\n",
       "  </thead>\n",
       "  <tbody>\n",
       "    <tr>\n",
       "      <th>0</th>\n",
       "      <td>2619</td>\n",
       "      <td>Ex-CIA head says Trump remarks on Russia inter...</td>\n",
       "      <td>Former CIA director John Brennan on Friday cri...</td>\n",
       "      <td>politicsNews</td>\n",
       "      <td>July 22, 2017</td>\n",
       "      <td>1</td>\n",
       "    </tr>\n",
       "    <tr>\n",
       "      <th>1</th>\n",
       "      <td>16043</td>\n",
       "      <td>YOU WON’T BELIEVE HIS PUNISHMENT! HISPANIC STO...</td>\n",
       "      <td>How did this man come to OWN this store? There...</td>\n",
       "      <td>Government News</td>\n",
       "      <td>Jun 19, 2017</td>\n",
       "      <td>0</td>\n",
       "    </tr>\n",
       "    <tr>\n",
       "      <th>2</th>\n",
       "      <td>876</td>\n",
       "      <td>Federal Reserve governor Powell's policy views...</td>\n",
       "      <td>President Donald Trump on Thursday tapped Fede...</td>\n",
       "      <td>politicsNews</td>\n",
       "      <td>November 2, 2017</td>\n",
       "      <td>1</td>\n",
       "    </tr>\n",
       "    <tr>\n",
       "      <th>3</th>\n",
       "      <td>19963</td>\n",
       "      <td>SCOUNDREL HILLARY SUPPORTER STARTS “TrumpLeaks...</td>\n",
       "      <td>Hillary Clinton ally David Brock is offering t...</td>\n",
       "      <td>left-news</td>\n",
       "      <td>Sep 17, 2016</td>\n",
       "      <td>0</td>\n",
       "    </tr>\n",
       "    <tr>\n",
       "      <th>4</th>\n",
       "      <td>10783</td>\n",
       "      <td>NANCY PELOSI ARROGANTLY DISMISSES Questions on...</td>\n",
       "      <td>Pleading ignorance is a perfect ploy for Nancy...</td>\n",
       "      <td>politics</td>\n",
       "      <td>May 26, 2017</td>\n",
       "      <td>0</td>\n",
       "    </tr>\n",
       "    <tr>\n",
       "      <th>...</th>\n",
       "      <td>...</td>\n",
       "      <td>...</td>\n",
       "      <td>...</td>\n",
       "      <td>...</td>\n",
       "      <td>...</td>\n",
       "      <td>...</td>\n",
       "    </tr>\n",
       "    <tr>\n",
       "      <th>29995</th>\n",
       "      <td>6880</td>\n",
       "      <td>U.S. aerospace industry urges Trump to help Ex...</td>\n",
       "      <td>The chief executive of the U.S. Aerospace Indu...</td>\n",
       "      <td>politicsNews</td>\n",
       "      <td>December 6, 2016</td>\n",
       "      <td>1</td>\n",
       "    </tr>\n",
       "    <tr>\n",
       "      <th>29996</th>\n",
       "      <td>17818</td>\n",
       "      <td>Highlights: Hong Kong leader Carrie Lam delive...</td>\n",
       "      <td>The following are highlights of the maiden pol...</td>\n",
       "      <td>worldnews</td>\n",
       "      <td>October 11, 2017</td>\n",
       "      <td>1</td>\n",
       "    </tr>\n",
       "    <tr>\n",
       "      <th>29997</th>\n",
       "      <td>5689</td>\n",
       "      <td>Obama Literally LAUGHS At Claims That Brexit M...</td>\n",
       "      <td>If there s one thing President Barack Obama is...</td>\n",
       "      <td>News</td>\n",
       "      <td>June 28, 2016</td>\n",
       "      <td>0</td>\n",
       "    </tr>\n",
       "    <tr>\n",
       "      <th>29998</th>\n",
       "      <td>15805</td>\n",
       "      <td>Syrian army takes full control of Deir al-Zor ...</td>\n",
       "      <td>The Syrian army and its allies have taken full...</td>\n",
       "      <td>worldnews</td>\n",
       "      <td>November 2, 2017</td>\n",
       "      <td>1</td>\n",
       "    </tr>\n",
       "    <tr>\n",
       "      <th>29999</th>\n",
       "      <td>8143</td>\n",
       "      <td>U.S., Israel sign $38 billion military aid pac...</td>\n",
       "      <td>The United States will give Israel $38 billion...</td>\n",
       "      <td>politicsNews</td>\n",
       "      <td>September 14, 2016</td>\n",
       "      <td>1</td>\n",
       "    </tr>\n",
       "  </tbody>\n",
       "</table>\n",
       "<p>30000 rows × 6 columns</p>\n",
       "</div>"
      ],
      "text/plain": [
       "       Unnamed: 0                                              title  \\\n",
       "0            2619  Ex-CIA head says Trump remarks on Russia inter...   \n",
       "1           16043  YOU WON’T BELIEVE HIS PUNISHMENT! HISPANIC STO...   \n",
       "2             876  Federal Reserve governor Powell's policy views...   \n",
       "3           19963  SCOUNDREL HILLARY SUPPORTER STARTS “TrumpLeaks...   \n",
       "4           10783  NANCY PELOSI ARROGANTLY DISMISSES Questions on...   \n",
       "...           ...                                                ...   \n",
       "29995        6880  U.S. aerospace industry urges Trump to help Ex...   \n",
       "29996       17818  Highlights: Hong Kong leader Carrie Lam delive...   \n",
       "29997        5689  Obama Literally LAUGHS At Claims That Brexit M...   \n",
       "29998       15805  Syrian army takes full control of Deir al-Zor ...   \n",
       "29999        8143  U.S., Israel sign $38 billion military aid pac...   \n",
       "\n",
       "                                                    text          subject  \\\n",
       "0      Former CIA director John Brennan on Friday cri...     politicsNews   \n",
       "1      How did this man come to OWN this store? There...  Government News   \n",
       "2      President Donald Trump on Thursday tapped Fede...     politicsNews   \n",
       "3      Hillary Clinton ally David Brock is offering t...        left-news   \n",
       "4      Pleading ignorance is a perfect ploy for Nancy...         politics   \n",
       "...                                                  ...              ...   \n",
       "29995  The chief executive of the U.S. Aerospace Indu...     politicsNews   \n",
       "29996  The following are highlights of the maiden pol...        worldnews   \n",
       "29997  If there s one thing President Barack Obama is...             News   \n",
       "29998  The Syrian army and its allies have taken full...        worldnews   \n",
       "29999  The United States will give Israel $38 billion...     politicsNews   \n",
       "\n",
       "                      date  label  \n",
       "0           July 22, 2017       1  \n",
       "1             Jun 19, 2017      0  \n",
       "2        November 2, 2017       1  \n",
       "3             Sep 17, 2016      0  \n",
       "4             May 26, 2017      0  \n",
       "...                    ...    ...  \n",
       "29995    December 6, 2016       1  \n",
       "29996    October 11, 2017       1  \n",
       "29997        June 28, 2016      0  \n",
       "29998    November 2, 2017       1  \n",
       "29999  September 14, 2016       1  \n",
       "\n",
       "[30000 rows x 6 columns]"
      ]
     },
     "execution_count": 110,
     "metadata": {},
     "output_type": "execute_result"
    }
   ],
   "source": [
    "df_train.dropna()\n"
   ]
  },
  {
   "cell_type": "code",
   "execution_count": 111,
   "metadata": {},
   "outputs": [
    {
     "name": "stdout",
     "output_type": "stream",
     "text": [
      "0 conflicting titles found.\n",
      "Series([], Name: label, dtype: int64)\n"
     ]
    }
   ],
   "source": [
    "\n",
    "\n",
    "conflicts = df_train.groupby('title')['label'].nunique()\n",
    "conflicted_titles = conflicts[conflicts > 1]\n",
    "\n",
    "print(f\"{len(conflicted_titles)} conflicting titles found.\")\n",
    "print(conflicted_titles.head())"
   ]
  },
  {
   "cell_type": "code",
   "execution_count": 112,
   "metadata": {},
   "outputs": [
    {
     "data": {
      "text/plain": [
       "(5893, 6)"
      ]
     },
     "execution_count": 112,
     "metadata": {},
     "output_type": "execute_result"
    }
   ],
   "source": [
    "df_train.drop_duplicates(subset='title', inplace=True)\n",
    "\n",
    "df_val.drop_duplicates(subset='title', inplace=True)\n",
    "\n",
    "df_val.shape\n"
   ]
  },
  {
   "cell_type": "code",
   "execution_count": 113,
   "metadata": {},
   "outputs": [
    {
     "data": {
      "application/vnd.microsoft.datawrangler.viewer.v0+json": {
       "columns": [
        {
         "name": "index",
         "rawType": "int64",
         "type": "integer"
        },
        {
         "name": "Unnamed: 0",
         "rawType": "int64",
         "type": "integer"
        },
        {
         "name": "title",
         "rawType": "object",
         "type": "string"
        },
        {
         "name": "text",
         "rawType": "object",
         "type": "string"
        },
        {
         "name": "subject",
         "rawType": "object",
         "type": "string"
        },
        {
         "name": "date",
         "rawType": "object",
         "type": "string"
        },
        {
         "name": "label",
         "rawType": "int64",
         "type": "integer"
        }
       ],
       "conversionMethod": "pd.DataFrame",
       "ref": "098f6e77-c111-46b3-bfeb-27a3f03a7430",
       "rows": [
        [
         "0",
         "14074",
         "TRUMP HATER GEORGE RAMOS Promotes Movie Showing Illegal Aliens Being Shot At Border By Drunk Vigilante…Blames Trump [VIDEO]",
         "Mexico has been the beneficiary of our open borders for decades. It s really quite amazing how loudly they cry foul when we finally have a presidential candidate willing to stand up to this insanity and say,  ENOUGH! It s Time to put Americans first! Illegal immigrants send home $50 billion annually but cost taxpayers more than $113 billion. Approximately 126,000 illegal immigrants emigrated from these three nations to the U.S. since last October and federal officials estimate at least 95,500 more will enter next year.The Central American governments have encouraged the high levels of emigration because it is earning their economy billions of dollars! For every illegal alien that sneaks into the U.S. and remits money back home, that grand total remittance number only grows. But what if the millions of U.S. jobs now filled by illegal aliens were done by American workers earning better wages, paying more in taxes and spending their money in their communities rather than sending it abroad?Americans are the ones forced to pick up the $113 billion tab for taking care of the country s 12 million illegal immigrants. Is it the responsibility of taxpaying citizens to cover the cost of illegal immigration and the government s aid to these countries while illegal workers continue to send their money overseas to send $50 billion overseas? Via: immigrationreform.comYet, somehow Donald Trump is to BLAME for wanting to shut down our open borders and bring some sanity back to our nation that is being overrun by Mexican drug runners and gang bangers coming from every corner of Mexico, Central and South America? A new Mexican movie promoted by Univision host Jorge Ramos portrays a drunk vigilante motivated by Republican presidential candidate Donald Trump s anti-immigrant rant killing at least four illegal immigrants at the border.The trailer for the movie, Desierto, now in Mexican theaters, blasts out Trump s initial criticism of illegal immigrants as a man armed with a rifle guns down targets crossing under barbed wire.https://youtu.be/V48ttgGqsswIt later shows the same man, in a pickup holding a bottle of what appears to be whisky, a beer can nearby, as a voice says,  Welcome to the land of the free.  The trailer ends with,  words are as dangerous as bullets. The Center for Immigration Studies on Tuesday first blogged on the  exploitation  movie and the promotion by Ramos on his Sunday show Al Punto. This material resonates powerfully with Jorge Ramos. His conviction that racism and xenophobia are the driving forces of opposition to illegal immigration is a central theme of his nightly newscasts. Ramos fixates on reports that confirm his conviction with the obsessiveness of an exploitation film director showing close-ups of bullets tearing into human flesh,  wrote CIS Fellow Jerry Kammer.He added:  On Sunday, Ramos talked with  Desierto  director Jonas Cuaron and star Gael Garcia Bernal about Trump s repugnant comments about Mexicans. Since then, Ramos said,  there are thousands if not millions of North Americans who feel that they have the absolute freedom to be racists. Via: Washington Examiner",
         "politics",
         "Apr 20, 2016",
         "0"
        ],
        [
         "1",
         "17592",
         "Germany seeks to maintain unity if U.S. decertifies Iran nuclear deal",
         "The German government on Friday vowed to work for continued global unity if U.S. President Donald Trump announces that he will not certify Iran s compliance with a 2015 nuclear accord negotiated by world powers, as expected.  We have a great interest in the continuation of this international unity. If ... an important country like the United States comes to a different conclusion as appears to be the case, we will work even harder with other partners to maintain this cohesion,  government spokesman Steffen Seibert told reporters. Trump is to deliver a speech at 12:45 p.m. EDT (1645 GMT) to announce a confrontational new approach to U.S. policy toward Iran. In a big shift, he is expected to say he will not certify Iran s compliance with the nuclear deal.",
         "worldnews",
         "October 13, 2017 ",
         "1"
        ],
        [
         "2",
         "5694",
         "No sign U.S. wants to cancel nuclear deal with Iran: German minister",
         "German Foreign Minister Sigmar Gabriel said it was necessary to do everything possible to make progress on the nuclear deal with Iran and that he did not see any indications during a visit to the United States that Washington would terminate it. U.S. President Donald Trump said earlier on Thursday that “nothing is off the table” in dealing with Iran following its test launch of a ballistic missile.",
         "politicsNews",
         "February 2, 2017 ",
         "1"
        ],
        [
         "3",
         "20036",
         "Brazil prosecutors seek to extend Batista detention, source says",
         "The Office of Brazil s Prosecutor-General Rodrigo Janot asked the Federal Supreme Court on Thursday to convert the temporary detention of billionaire beef tycoon Joesley Batista into preventative detention, a person with knowledge of the situation said.",
         "worldnews",
         "September 14, 2017 ",
         "1"
        ],
        [
         "4",
         "234",
         "Trump Just Asked The Most Unqualified Person Ever To Join His NAFTA Renegotiation Team",
         "Trump, who keeps promising to either scrap our trade deals, or at least aggressively renegotiate them, is mulling over all the people he could add to his NAFTA renegotiating team. He s apparently not looking for anyone who has diplomatic negotiating experience though, since he thinks negotiating is negotiating. Noooo he actually wants Ron Burkle, co-owner of the Pittsburgh Penguins, on this team because he believes Burkle is great at negotiating.The Penguins were visiting the White House in the tradition of champion sports teams, where Trump praised Burkle s negotiating abilities and said: Ron, how about negotiating some of our horrible trade deals that they ve made? Here s what I want, I want to get him. Oh, I would love to have Ron Burkle. And it s great to have you Ron. But I really mean that, if you want to get involved in negotiating NAFTA, I like it. Because we re renegotiating NAFTA, Ron. The U.S. is entering its fourth round of NAFTA talks, with Canadian Prime Minister Justin Trudeau s visit to the U.S. tomorrow overlapping that. Trump hates NAFTA in part because he wants trade deals that are heavily even unfairly weighted in our direction. He has threatened to walk away from these talks because he s not getting what he wants.Worse, like the Paris Agreement and the Trans-Pacific Partnership, he thinks terminating our involvement in international agreements is the best way to get his idea of a good deal: I happen to think that Nafta will have to be terminated if we re going to make it good. Otherwise, I believe you can t negotiate a good deal. Said the desert to the grain of sand. This is a man who has bankrupted so many businesses and hurt so many people that way that it s astonishing anyone thinks he s a great businessman. But hey, he made out nicely, so who cares what happened to everyone else?This is how he sees our international agreements, including NAFTA. He doesn t understand international diplomacy at all and doesn t care to   so honestly, is it any wonder he wants the co-owner of a hockey team to work on this? He s going to destroy our economy if he doesn t get other countries to destroy us with nukes first.Featured image via Win McNamee/Getty Images",
         "News",
         "October 10, 2017",
         "0"
        ]
       ],
       "shape": {
        "columns": 6,
        "rows": 5
       }
      },
      "text/html": [
       "<div>\n",
       "<style scoped>\n",
       "    .dataframe tbody tr th:only-of-type {\n",
       "        vertical-align: middle;\n",
       "    }\n",
       "\n",
       "    .dataframe tbody tr th {\n",
       "        vertical-align: top;\n",
       "    }\n",
       "\n",
       "    .dataframe thead th {\n",
       "        text-align: right;\n",
       "    }\n",
       "</style>\n",
       "<table border=\"1\" class=\"dataframe\">\n",
       "  <thead>\n",
       "    <tr style=\"text-align: right;\">\n",
       "      <th></th>\n",
       "      <th>Unnamed: 0</th>\n",
       "      <th>title</th>\n",
       "      <th>text</th>\n",
       "      <th>subject</th>\n",
       "      <th>date</th>\n",
       "      <th>label</th>\n",
       "    </tr>\n",
       "  </thead>\n",
       "  <tbody>\n",
       "    <tr>\n",
       "      <th>0</th>\n",
       "      <td>14074</td>\n",
       "      <td>TRUMP HATER GEORGE RAMOS Promotes Movie Showin...</td>\n",
       "      <td>Mexico has been the beneficiary of our open bo...</td>\n",
       "      <td>politics</td>\n",
       "      <td>Apr 20, 2016</td>\n",
       "      <td>0</td>\n",
       "    </tr>\n",
       "    <tr>\n",
       "      <th>1</th>\n",
       "      <td>17592</td>\n",
       "      <td>Germany seeks to maintain unity if U.S. decert...</td>\n",
       "      <td>The German government on Friday vowed to work ...</td>\n",
       "      <td>worldnews</td>\n",
       "      <td>October 13, 2017</td>\n",
       "      <td>1</td>\n",
       "    </tr>\n",
       "    <tr>\n",
       "      <th>2</th>\n",
       "      <td>5694</td>\n",
       "      <td>No sign U.S. wants to cancel nuclear deal with...</td>\n",
       "      <td>German Foreign Minister Sigmar Gabriel said it...</td>\n",
       "      <td>politicsNews</td>\n",
       "      <td>February 2, 2017</td>\n",
       "      <td>1</td>\n",
       "    </tr>\n",
       "    <tr>\n",
       "      <th>3</th>\n",
       "      <td>20036</td>\n",
       "      <td>Brazil prosecutors seek to extend Batista dete...</td>\n",
       "      <td>The Office of Brazil s Prosecutor-General Rodr...</td>\n",
       "      <td>worldnews</td>\n",
       "      <td>September 14, 2017</td>\n",
       "      <td>1</td>\n",
       "    </tr>\n",
       "    <tr>\n",
       "      <th>4</th>\n",
       "      <td>234</td>\n",
       "      <td>Trump Just Asked The Most Unqualified Person E...</td>\n",
       "      <td>Trump, who keeps promising to either scrap our...</td>\n",
       "      <td>News</td>\n",
       "      <td>October 10, 2017</td>\n",
       "      <td>0</td>\n",
       "    </tr>\n",
       "  </tbody>\n",
       "</table>\n",
       "</div>"
      ],
      "text/plain": [
       "   Unnamed: 0                                              title  \\\n",
       "0       14074  TRUMP HATER GEORGE RAMOS Promotes Movie Showin...   \n",
       "1       17592  Germany seeks to maintain unity if U.S. decert...   \n",
       "2        5694  No sign U.S. wants to cancel nuclear deal with...   \n",
       "3       20036  Brazil prosecutors seek to extend Batista dete...   \n",
       "4         234  Trump Just Asked The Most Unqualified Person E...   \n",
       "\n",
       "                                                text       subject  \\\n",
       "0  Mexico has been the beneficiary of our open bo...      politics   \n",
       "1  The German government on Friday vowed to work ...     worldnews   \n",
       "2  German Foreign Minister Sigmar Gabriel said it...  politicsNews   \n",
       "3  The Office of Brazil s Prosecutor-General Rodr...     worldnews   \n",
       "4  Trump, who keeps promising to either scrap our...          News   \n",
       "\n",
       "                  date  label  \n",
       "0         Apr 20, 2016      0  \n",
       "1    October 13, 2017       1  \n",
       "2    February 2, 2017       1  \n",
       "3  September 14, 2017       1  \n",
       "4     October 10, 2017      0  "
      ]
     },
     "execution_count": 113,
     "metadata": {},
     "output_type": "execute_result"
    }
   ],
   "source": [
    "df_val.head()"
   ]
  },
  {
   "cell_type": "code",
   "execution_count": 114,
   "metadata": {},
   "outputs": [
    {
     "data": {
      "application/vnd.microsoft.datawrangler.viewer.v0+json": {
       "columns": [
        {
         "name": "index",
         "rawType": "int64",
         "type": "integer"
        },
        {
         "name": "Unnamed: 0",
         "rawType": "int64",
         "type": "integer"
        },
        {
         "name": "title",
         "rawType": "object",
         "type": "string"
        },
        {
         "name": "text",
         "rawType": "object",
         "type": "string"
        },
        {
         "name": "subject",
         "rawType": "object",
         "type": "string"
        },
        {
         "name": "date",
         "rawType": "object",
         "type": "string"
        },
        {
         "name": "label",
         "rawType": "int64",
         "type": "integer"
        }
       ],
       "conversionMethod": "pd.DataFrame",
       "ref": "9e0e252d-3b6d-48ce-a9fa-a6265a0e876b",
       "rows": [
        [
         "0",
         "8104",
         "Conservatives Will HATE What Donald Trump Just Said About Planned Parenthood (VIDEO)",
         "Donald Trump isn t exactly a stranger to making large groups of people angry   women, African-Americans, Hispanics, Muslims, and mainstream Republicans all despise The Donald. One group, however, has always strongly supported him   the Stupid Part of America   and he s about to lose them, too. Trump s popularity with conservatives has soared since he began screaming about a god he will never actually understand, baby parts, and other favorite talking points of theirs   but his recent remarks about Planned Parenthood may lose him a lot of support among the segment of the population who are dumb enough to fall for heavily-edited propaganda videos.At the insanely heated GOP debate, Ted Cruz managed to trick The Donald into defending Planned Parenthood. During one of the screaming matches between Trump and Cruz that have become rather commonplace, the Texas Senator accused the billionaire of supporting federal funding of Planned Parenthood. Eventually, he managed to goad Trump into supporting Planned Parenthood, though The Donald still spoke out against abortion. But let me say more blunt Donald you notice didn t agree with the substance that he supports taxpayer funding for Planned Parenthood and Donald has this weird pattern, when you point to his own record he screams  Liar! Liar! Liar! ,  Cruz said, pointing out that Trump has, in the past, said Planned Parenthood does  wonderful things.  Trump replied: It does do wonderful things, but not as it relates to abortion. There are wonderful things having to do with women s health, but not when it comes to abortion. Planned Parenthood absolutely does do wonderful things. But unlike Trump s assertion, those wonderful things include giving women access to a safe, sanitary abortion if they choose to have one. Planned Parenthood also provides numerous irreplaceable services to women that have nothing at all to do with abortion, as well as informs women of alternatives to terminating a pregnancy   like adoption. In fact, only three percent of the organization s services are abortion-related.Unfortunately for Trump, this moment of honesty about Planned Parenthood will haunt him right up until election day   because conservatives simply don t care about women.Watch the exchange below:Featured image via screengrab",
         "News",
         "February 14, 2016",
         "0"
        ],
        [
         "1",
         "7467",
         "Trump victory may create new tension between U.S. and Islam: Indonesia clerical body",
         "Donald Trump’s U.S. election victory may create fresh tension between the United States and the Islamic world, an official at Indonesia’s top Muslim clerical body said on Wednesday. Trump, who once proposed a ban on Muslims entering the United States, stunned the world by defeating heavily favored Hillary Clinton in the presidential race, ending eight years of Democratic rule. Trump had made “negative, cynical” comments about Muslims in the past, Din Syamsuddin, a senior official at the Indonesian Ulema Council (MUI), told reporters in Jakarta. “He had forgotten that many Americans are immigrants.” Indonesia has the world’s largest Muslim population.",
         "politicsNews",
         "November 9, 2016 ",
         "1"
        ],
        [
         "2",
         "9473",
         "WATCH: Hundreds of ILLEGAL ALIENS Storm Senate Building DEMANDING Citizenship…Where The Heck Is I.C.E.?",
         "A couple of quick questions come to mind when most law-abiding Americans see illegal aliens storming our government buildings:  Is there anywhere else in the world where hundreds of illegal aliens are storming government buildings that house lawmakers, to demand the same rights afforded to legal citizens? And does I.C.E. have the day off or something? Hundreds of illegal and legal immigrants descended upon the Hart Senate building Thursday afternoon, gathering in mass protest of the Trump administration s decision to rescind the Deferred Action for Childhood Arrivals Act.#DreamActNow #CleanDreamActNOW #undocumented #unafraid Happening now! pic.twitter.com/oPFcZCYrXj  UndocuBlack Network (@UndocuBlack) November 9, 2017The protesters gathered in the Capitol to demand that members of Congress pass legislation for DREAMERers and DACA recipients.Happening Now! UndocuBlack joins hundreds of immigrant youth and we are taking over the Hart Senate building in Washington, DC #DREAMActNow@speakerryan #CleanDreamAct #CleanDreamActNOW pic.twitter.com/lLXPJro17v  UndocuBlack Network (@UndocuBlack) November 9, 2017Protests were not relegated to solely Washington, college students across the U.S. staged organized walkouts and rallies Thursday.Another group, the UndocuBlack Network, joined in on Thursday s Capitol protests. UndocuBlack describes themselves as a  multigenerational Network of Black undocumented people organizing our communities and building power. The UndocBlack Network just tweeted that they are not interested in any deals with Congress. The ILLEGAL ALIEN group tweeted:  We will not trade diversity visas, e-verify, so called chain migration!  Who knew that people living ILLEGALLY in our nation had so much power?BREAKING: @speakerryan and the GOP just Don't get it! We said #cleanDREAMAct #DreamActNow We will not trade diversity visas, e-verify, so called chain migration! https://t.co/vpaLrS07vg pic.twitter.com/t5CiKRBOys  UndocuBlack Network (@UndocuBlack) November 9, 2017House Republicans said Thursday that they are hoping to pass a bill help DACA recipients before the clock runs out on 2017. Roughly a dozen House GOP members think as many as 300 of the chamber s 435 members could get behind such a bill. No bill is going to be perfect, but inaction is just unacceptable. We stand here ready to work with the speaker s working group, with the White House, with our friends from both sides of the aisle to pass a legislative solution this year,  Rep. Dan Newhouse of Washington told reporters Thursday.  Every time that Congress kicks this can down the road, people, real people, are hurt. Via: Daily Caller",
         "politics",
         "Nov 9, 2017",
         "0"
        ],
        [
         "3",
         "276",
         "Democratic Senator Franken to resign: CNN, citing sources",
         "U.S. Democratic Senator Al Franken will announce his resignation on Thursday, a day after a majority of his Democratic Senate colleagues called for him to step down following a string of sexual misconduct allegations against him, CNN reported on Thursday, citing unnamed sources.",
         "politicsNews",
         "December 7, 2017 ",
         "1"
        ],
        [
         "4",
         "19274",
         "GANG OF DOMESTIC TERRORISTS Violently Attack Lone Trump Supporter For Putting Out Huge Fire Started On Street In DC [VIDEO]",
         "***WARNING*** Violence is graphic***This Trump supporter used a fire extinguisher to put out a fire on the street in DC that was started by domestic terrorists who were rioting in opposition to Trump s presidency.Watch how these animals attack this brave young man for doing the right thing:https://twitter.com/TEN_GOP/status/822629269109178369",
         "left-news",
         "Jan 21, 2017",
         "0"
        ]
       ],
       "shape": {
        "columns": 6,
        "rows": 5
       }
      },
      "text/html": [
       "<div>\n",
       "<style scoped>\n",
       "    .dataframe tbody tr th:only-of-type {\n",
       "        vertical-align: middle;\n",
       "    }\n",
       "\n",
       "    .dataframe tbody tr th {\n",
       "        vertical-align: top;\n",
       "    }\n",
       "\n",
       "    .dataframe thead th {\n",
       "        text-align: right;\n",
       "    }\n",
       "</style>\n",
       "<table border=\"1\" class=\"dataframe\">\n",
       "  <thead>\n",
       "    <tr style=\"text-align: right;\">\n",
       "      <th></th>\n",
       "      <th>Unnamed: 0</th>\n",
       "      <th>title</th>\n",
       "      <th>text</th>\n",
       "      <th>subject</th>\n",
       "      <th>date</th>\n",
       "      <th>label</th>\n",
       "    </tr>\n",
       "  </thead>\n",
       "  <tbody>\n",
       "    <tr>\n",
       "      <th>0</th>\n",
       "      <td>8104</td>\n",
       "      <td>Conservatives Will HATE What Donald Trump Just...</td>\n",
       "      <td>Donald Trump isn t exactly a stranger to makin...</td>\n",
       "      <td>News</td>\n",
       "      <td>February 14, 2016</td>\n",
       "      <td>0</td>\n",
       "    </tr>\n",
       "    <tr>\n",
       "      <th>1</th>\n",
       "      <td>7467</td>\n",
       "      <td>Trump victory may create new tension between U...</td>\n",
       "      <td>Donald Trump’s U.S. election victory may creat...</td>\n",
       "      <td>politicsNews</td>\n",
       "      <td>November 9, 2016</td>\n",
       "      <td>1</td>\n",
       "    </tr>\n",
       "    <tr>\n",
       "      <th>2</th>\n",
       "      <td>9473</td>\n",
       "      <td>WATCH: Hundreds of ILLEGAL ALIENS Storm Senate...</td>\n",
       "      <td>A couple of quick questions come to mind when ...</td>\n",
       "      <td>politics</td>\n",
       "      <td>Nov 9, 2017</td>\n",
       "      <td>0</td>\n",
       "    </tr>\n",
       "    <tr>\n",
       "      <th>3</th>\n",
       "      <td>276</td>\n",
       "      <td>Democratic Senator Franken to resign: CNN, cit...</td>\n",
       "      <td>U.S. Democratic Senator Al Franken will announ...</td>\n",
       "      <td>politicsNews</td>\n",
       "      <td>December 7, 2017</td>\n",
       "      <td>1</td>\n",
       "    </tr>\n",
       "    <tr>\n",
       "      <th>4</th>\n",
       "      <td>19274</td>\n",
       "      <td>GANG OF DOMESTIC TERRORISTS Violently Attack L...</td>\n",
       "      <td>***WARNING*** Violence is graphic***This Trump...</td>\n",
       "      <td>left-news</td>\n",
       "      <td>Jan 21, 2017</td>\n",
       "      <td>0</td>\n",
       "    </tr>\n",
       "  </tbody>\n",
       "</table>\n",
       "</div>"
      ],
      "text/plain": [
       "   Unnamed: 0                                              title  \\\n",
       "0        8104  Conservatives Will HATE What Donald Trump Just...   \n",
       "1        7467  Trump victory may create new tension between U...   \n",
       "2        9473  WATCH: Hundreds of ILLEGAL ALIENS Storm Senate...   \n",
       "3         276  Democratic Senator Franken to resign: CNN, cit...   \n",
       "4       19274  GANG OF DOMESTIC TERRORISTS Violently Attack L...   \n",
       "\n",
       "                                                text       subject  \\\n",
       "0  Donald Trump isn t exactly a stranger to makin...          News   \n",
       "1  Donald Trump’s U.S. election victory may creat...  politicsNews   \n",
       "2  A couple of quick questions come to mind when ...      politics   \n",
       "3  U.S. Democratic Senator Al Franken will announ...  politicsNews   \n",
       "4  ***WARNING*** Violence is graphic***This Trump...     left-news   \n",
       "\n",
       "                date  label  \n",
       "0  February 14, 2016      0  \n",
       "1  November 9, 2016       1  \n",
       "2        Nov 9, 2017      0  \n",
       "3  December 7, 2017       1  \n",
       "4       Jan 21, 2017      0  "
      ]
     },
     "execution_count": 114,
     "metadata": {},
     "output_type": "execute_result"
    }
   ],
   "source": [
    "df_test.head()"
   ]
  },
  {
   "cell_type": "code",
   "execution_count": 115,
   "metadata": {},
   "outputs": [
    {
     "data": {
      "text/plain": [
       "(27149, 4)"
      ]
     },
     "execution_count": 115,
     "metadata": {},
     "output_type": "execute_result"
    }
   ],
   "source": [
    "X = df_train.drop(\"label\", axis = 1)\n",
    "X_t = X.drop(\"Unnamed: 0\", axis = 1)\n",
    "V = df_val.drop(\"label\", axis = 1)\n",
    "V_t = V.drop(\"Unnamed: 0\", axis = 1)\n",
    "\n",
    "X_t.head()\n",
    "X_t.shape\n"
   ]
  },
  {
   "cell_type": "code",
   "execution_count": 116,
   "metadata": {},
   "outputs": [
    {
     "data": {
      "text/plain": [
       "0    1\n",
       "1    0\n",
       "2    1\n",
       "3    0\n",
       "4    0\n",
       "Name: label, dtype: int64"
      ]
     },
     "execution_count": 116,
     "metadata": {},
     "output_type": "execute_result"
    }
   ],
   "source": [
    "y_t = df_train['label']\n",
    "v_t = df_val['label']\n",
    "y_t.head()\n"
   ]
  },
  {
   "cell_type": "code",
   "execution_count": 117,
   "metadata": {},
   "outputs": [],
   "source": [
    "import nltk\n",
    "import re\n",
    "from nltk.corpus import stopwords\n",
    "from nltk.stem.porter import PorterStemmer\n",
    "\n",
    "ps = PorterStemmer()\n",
    "stop_words = set(stopwords.words('english'))\n",
    "\n",
    "X_t = X_t.reset_index(drop=True)\n",
    "V_t = V_t.reset_index(drop=True)\n",
    "\n",
    "\n",
    "# 2. Define important negation words\n",
    "negation_words = {\"not\", \"no\", \"never\", \"n't\", \"cannot\", \"won't\", \"don't\"}\n",
    "\n",
    "# 3. Subtract them from the stopword list\n",
    "custom_stopwords = list(stop_words - negation_words)\n",
    "\n",
    "corpus = []\n",
    "\n",
    "for i in range(len(X_t)):\n",
    "    review = re.sub('[^a-zA-z]', ' ', X_t['title'][i])\n",
    "    review = review.lower()\n",
    "    review = nltk .word_tokenize(review)\n",
    "\n",
    "    review = [ps.stem(word) for word in review if not word in custom_stopwords ]\n",
    "    review = ' '.join(review)\n",
    "    corpus.append(review)\n",
    "\n",
    "corpus2 = []\n",
    "for i in range(len(V_t)):\n",
    "    review = re.sub('[^a-zA-z]', ' ', V_t['title'][i])\n",
    "    review = review.lower()\n",
    "    review = nltk .word_tokenize(review)\n",
    "\n",
    "    review = [ps.stem(word) for word in review if not word in custom_stopwords ]\n",
    "    review = ' '.join(review)\n",
    "    corpus2.append(review)\n",
    "\n"
   ]
  },
  {
   "cell_type": "code",
   "execution_count": 124,
   "metadata": {},
   "outputs": [],
   "source": [
    "from sklearn.feature_extraction.text import TfidfVectorizer\n",
    "from textblob import TextBlob\n",
    "from scipy.sparse import hstack\n",
    "import numpy as np\n",
    "\n",
    "sentiments = [TextBlob(text).sentiment.polarity for text in corpus]\n",
    "sentiments2 =[TextBlob(text).sentiment.polarity for text in corpus2]\n",
    "\n",
    "scaled_sentiments = [(s + 1) for s in sentiments]\n",
    "scaled_sentiments2 = [(s + 1) for s in sentiments2]\n",
    "\n",
    "tf = TfidfVectorizer(max_features=5000,ngram_range=(1,3))\n",
    "\n",
    "X = tf.fit_transform(corpus).toarray()\n",
    "XCombined = np.hstack([X, np.array(scaled_sentiments).reshape(-1,1)])\n",
    " \n",
    "V = tf.transform(corpus2).toarray()\n",
    "VCombined = np.hstack([V, np.array(scaled_sentiments2).reshape(-1,1)])"
   ]
  },
  {
   "cell_type": "code",
   "execution_count": 125,
   "metadata": {},
   "outputs": [],
   "source": [
    "import matplotlib.pyplot as plt\n",
    "\n",
    "def plot_confusion_matrix(cm, classes,\n",
    "                          normalize=False,\n",
    "                          title='Confusion matrix',\n",
    "                          cmap=plt.cm.Blues):\n",
    "    \"\"\"\n",
    "    See full source and example: \n",
    "    http://scikit-learn.org/stable/auto_examples/model_selection/plot_confusion_matrix.html\n",
    "    \n",
    "    This function prints and plots the confusion matrix.\n",
    "    Normalization can be applied by setting `normalize=True`.\n",
    "    \"\"\"\n",
    "    plt.imshow(cm, interpolation='nearest', cmap=cmap)\n",
    "    plt.title(title)\n",
    "    plt.colorbar()\n",
    "    tick_marks = np.arange(len(classes))\n",
    "    plt.xticks(tick_marks, classes, rotation=45)\n",
    "    plt.yticks(tick_marks, classes)\n",
    "\n",
    "    if normalize:\n",
    "        cm = cm.astype('float') / cm.sum(axis=1)[:, np.newaxis]\n",
    "        print(\"Normalized confusion matrix\")\n",
    "    else:\n",
    "        print('Confusion matrix, without normalization')\n",
    "\n",
    "    thresh = cm.max() / 2.\n",
    "    for i, j in itertools.product(range(cm.shape[0]), range(cm.shape[1])):\n",
    "        plt.text(j, i, cm[i, j],\n",
    "                 horizontalalignment=\"center\",\n",
    "                 color=\"white\" if cm[i, j] > thresh else \"black\")\n",
    "\n",
    "    plt.tight_layout()\n",
    "    plt.ylabel('True label')\n",
    "    plt.xlabel('Predicted label')\n",
    "\n"
   ]
  },
  {
   "cell_type": "code",
   "execution_count": 126,
   "metadata": {},
   "outputs": [
    {
     "name": "stdout",
     "output_type": "stream",
     "text": [
      "accuracy:   0.926\n",
      "Confusion matrix, without normalization\n"
     ]
    },
    {
     "data": {
      "image/png": "[encoded data removed]",
      "text/plain": [
       "<Figure size 640x480 with 2 Axes>"
      ]
     },
     "metadata": {},
     "output_type": "display_data"
    }
   ],
   "source": [
    "from sklearn.naive_bayes import MultinomialNB\n",
    "classifier=MultinomialNB()\n",
    "\n",
    "from sklearn import metrics\n",
    "import numpy as np\n",
    "import itertools\n",
    "\n",
    "classifier.fit(XCombined, y_t)\n",
    "pred = classifier.predict(VCombined)\n",
    "score = metrics.accuracy_score(v_t, pred)\n",
    "print(\"accuracy:   %0.3f\" % score)\n",
    "cm = metrics.confusion_matrix(v_t, pred)\n",
    "plot_confusion_matrix(cm, classes=['FAKE', 'REAL'])\n",
    "\n"
   ]
  }
 ],
 "metadata": {
  "kernelspec": {
   "display_name": "Python 3",
   "language": "python",
   "name": "python3"
  },
  "language_info": {
   "codemirror_mode": {
    "name": "ipython",
    "version": 3
   },
   "file_extension": ".py",
   "mimetype": "text/x-python",
   "name": "python",
   "nbconvert_exporter": "python",
   "pygments_lexer": "ipython3",
   "version": "3.11.9"
  }
 },
 "nbformat": 4,
 "nbformat_minor": 2
}
